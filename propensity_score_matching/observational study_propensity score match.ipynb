{
 "cells": [
  {
   "cell_type": "markdown",
   "metadata": {
    "toc": true
   },
   "source": [
    "# Observational Studies and Propensity Score Matching  \n",
    "* Causal Inference\n",
    "    * The Definition of Causal Effect\n",
    "    * Assumptions of Estimating Causal Effect\n",
    "    * Confounders\n",
    "    * Randomized Trials v.s. Observational Studies\n",
    "    * Matching\n",
    "        * Propensity Scores\n",
    "    * Implementation\n",
    "    \n",
    "* Reference"
   ]
  },
  {
   "cell_type": "markdown",
   "metadata": {},
   "source": [
    "# Causal Inference"
   ]
  },
  {
   "cell_type": "markdown",
   "metadata": {},
   "source": [
    "A typical statement that people make in the real world follows a pattern like this:\n",
    "\n",
    "> I took ibuprofen and my headache is gone, therefore the medicine worked.\n",
    "\n",
    "Upon seeing this statement, we may be tempted to view the statement above as a causal effect, where ibuprofen does in fact help with headache. The statement, however, does not tell us what would have happened if the person didn't take the medicine. Maybe headache would have been cured without taking the medicine.\n",
    "\n",
    "We'll take a moment and introduce some notation to formalize the discussion of causal inferencing. We denote $Y^a$ as the outcome that would have been observed if treatment was set to $A = a$. In the context of causal inferencing, there are two possible actions that can be applied to an individual. $1$, treatment; $0$, control. Hence $Y^1$ denotes the outcome if the treatment was applied, whereas $Y^0$ measures the outcome if individual was under the control group.\n",
    "\n",
    "Coming back to the statement above. The reason why it isn't a proper causal effect is because it's only telling us $Y^1=1$. It doesn't tell us what would have happened had we not taken ibuprofen, $Y^0=?$. And we can only state that there is a causal effect if $Y^1 \\neq Y^0$.\n",
    "\n",
    "The two main messages that we're getting at in the section above are:\n",
    "\n",
    "First, in the context of **Causal Inferencing**, a lot of times we're mainly interested in the relationship between means of different potential outcomes. \n",
    "\n",
    "\\begin{align}\n",
    "E(Y^1 - Y^0)\n",
    "\\end{align}\n",
    "\n",
    "Where the term, **potential outcome, refers to the outcome we would see under each possible treatment option**. More on this formula in the next section.\n",
    "\n",
    "Second, our little statement above shows what is known as the **fundamental problem of causal inferencing**. Meaning we can only observe one potential outcome for each person. However, with certain assumptions, we can estimate population level causal effects. In other words, it is possible for us to answer questions such as: what would the rate of headache remission be if everyone took ibuprofen when they had a headache versus if no one did.\n",
    "\n",
    "Thus the next question is, *how do we use observed data to link observed outcome to potential outcome.*"
   ]
  },
  {
   "cell_type": "markdown",
   "metadata": {},
   "source": [
    "## The Definition of Causal Effect"
   ]
  },
  {
   "cell_type": "markdown",
   "metadata": {},
   "source": [
    "In the previous section, I flashed the idea that with causal inferencing, we're interesting in estimating $E(Y^1 - Y^0)$. This notation denotes **Average Causal Effect**. What this means is:  \n",
    "\n",
    "Imagine a hypothetical world where our entire population, every single person, got treatment $A=0$. Versus, some other hypothetical world where everyone received the other treatment, $A=1$. The most important thing here is the two hypothetical world have the exact same people, it's the same population of people. But in one case, we do one thing to them, and in another case, we do another. And then, if we were able to observe both of these worlds simultaneously, we could collect the outcome data from everyone in the populations, and then compute average difference.\n",
    "\n",
    "This is what we mean by an average causal effect. It's computed over the whole population and we're saying, what would the average outcome be if everybody got one treatment, versus if everybody got another treatment? Of course, in reality, we're not going to see both of these worlds. But this is what we're hoping to estimate.\n",
    "\n",
    "In reality, what we get from an experiment is $E(Y|A=1)$. Here, we are saying what is the expected value of $Y$ given $A=1$. An equivalent way of reading this is the expected value of $Y$ restricting to the sub-population who actually had $A=1$. The main point that we're getting at is:\n",
    "\n",
    "\\begin{align}\n",
    "E(Y^1 - Y^0) \\neq E(Y|A=1) - E(Y|A=0)\n",
    "\\end{align}\n",
    "\n",
    "The reason being the sub-population might differ from the whole population in important ways. e.g. People at higher risk for the flu might be more likely to get the flu shot. Then if we take the expected value of $Y$ among people who actually got the flu shot, we're taking expected value of $Y$ among a higher risk population. And this will most likely be different than the expected value of the potential outcome $Y^1$ because $Y^1$ is the outcome if everyone in the whole population got treatment, i.e. it's not restricting to a sub-population.\n",
    "\n",
    "We could of course still compute $E(Y|A=1) - E(Y|A=0)$, but we need to keep in mind that the people who received treatment $A=0$ might differ in fundamental ways from people who got treatment $A=1$. So we haven't isolated a treatment effect, because these are different people, and they might have different characteristics in general. So that's why this distinction between the two are very important. The causal effect where we're manipulating treatment on the same group of people versus what we actually observe, which is the difference in means among some populations that are defined by treatment.\n",
    "\n",
    "In short, the takeaway message here is that $E(Y|A=1) - E(Y|A=0)$ is generally not a causal effect, because it is comparing two different populations of people."
   ]
  },
  {
   "cell_type": "markdown",
   "metadata": {},
   "source": [
    "## Assumptions of Estimating Causal Effect"
   ]
  },
  {
   "cell_type": "markdown",
   "metadata": {},
   "source": [
    "Hopefully, by now, we know the fundamental problem of causal inferencing is that we can only observe one treatment and one outcome for each person at a given point in time. The next question is how do we then use observed data to link observed outcomes to potential outcomes? To do so, we'll need make some assumptions.\n",
    "\n",
    "The observed data typically consists of **an outcome, $Y$, a treatment variable $A$, and then some set of covariates $X$** (additional information that we may wish to collect for individuals in the studies). The assumptions that we'll make are listed below.\n",
    "\n",
    "- **Stable Unit Treatment Value Assumption (SUTVA):** Not interference between units. Treatment assignment of one unit does not affect the outcome of another unit. Same sentence but phrased a bit differently: When we assign somebody a treatment how effective that is isn't dependent on what is happening with other people\n",
    "- **Positivity Assumption:** For every set of values for $X$, treatment assignment was not deterministic: $P(A=a|X=x) > 0$ for all $a$ and $x$. This assumption ensures we can have some data at every level of $X$ for people who are treated and not treated. The reason we need this assumption is: if for a given value of $X$, everybody would/wouldn't treated, then there's really no way for us to learn what would've happened if they were/weren't treated. In some cases where people with certain diseases might be ineligible for a particular treatment, we wouldn't want to make inference about that population, so we would probably exclude them from the study.\n",
    "- **Ignorability Assumption:** Given pre-treatment covariates $X$, treatment assignment is independent of the potential outcome. $Y^1, Y^0 \\perp A | X$ (here, $\\perp$ denotes independence). So among people with the same values of $X$, we could essentially think of treatment as being randomly assigned. This is also referred to as \"no unmeasured confounders' assumption\".\n",
    "- **Consistency Assumption:** The potential outcome under the treatment $A=a$, $Y^a$ is equivalent to the observed outcome $Y$, if the actual treatment received is $A=a$. i.e. $Y = Y^a \\text{ if } A=a$.\n",
    "\n",
    "Given the assumptions above, we can link our observe data to potential outcomes. Given that we have:\n",
    "\n",
    "\\begin{align}\n",
    "E(Y | A=a, X=x)\n",
    "&= E(Y^a | A=a, X=x) \\text{ due to consistency} \\\\ \n",
    "&= E(Y^a | X=x) \\text{ due to ignorability}\n",
    "\\end{align}\n",
    "\n",
    "To elaborate on the ignorability assumption, the assumption said that conditional on the set of covariates $X$, the treatment assignment mechanism doesn't matter, it's just random. So, in other words, conditioning on $A$ isn't providing us any additional information about the mean of the potential outcome here.\n",
    "\n",
    "After laying down the assumptions behind causal inferencing, we'll also introduce two important concepts **confounders** and **observational studies**."
   ]
  },
  {
   "cell_type": "markdown",
   "metadata": {},
   "source": [
    "## Confounders"
   ]
  },
  {
   "cell_type": "markdown",
   "metadata": {},
   "source": [
    "**Confounders (Confounding Variables)** are defined as variables that affect both the treatment and outcome. e.g. Imagine that older people are at higher risk of cardiovascular disease (the outcome), but are also more likely to receive statins (the treatment). In this case, age would be a confounder. Age is affecting both the treatment decision, which here is whether or not to receive statins, and is also directly affecting the outcome, which is cardiovascular disease. So, when it comes to confounder control, we are interested in first identifying a set of variables $X$ that will make the ignorability assumption hold. After finding a set of variables like this, will we then have hope of estimating causal effects."
   ]
  },
  {
   "cell_type": "markdown",
   "metadata": {},
   "source": [
    "## Randomized Trials v.s. Observational Studies"
   ]
  },
  {
   "cell_type": "markdown",
   "metadata": {},
   "source": [
    "In a **randomized trial**, *the treatment assignment, $A$, would be randomly decided.* Thus if the randomized trial is actually randomized, the distribution of our covariates, $X$, will be the same in both groups. i.e. the covariates are said to be balanced. Thus if our outcome between different treatment groups end up differing, it will not be because of differences in $X$.\n",
    "\n",
    "So you might be wondering, why not just always perform a randomized trial. Well, there are a couple of reasons:\n",
    "\n",
    "- It's expensive. We have to enroll people into a trial, there might be loads to protocols that we need to follow and it takes time and money to keep track of those people after they enrolled.\n",
    "- Sometimes it's unethical to randomize treatment. A typical example would be smoking.\n",
    "\n",
    "For **observational studies**, though similar to a randomized trial, *we're not actually intervening with the treatment assignment.* We're only observing what happens in reality. Additionally, we can alway leverage retrospective data, where these data are already being collected for various other purposes not specific to this research that we're interested. Caveat is that these data might be messy and of lower quality.This is also called *retrospective study.*\n",
    "\n",
    "Observational studies are becoming more and more prevalent, but as it is not a randomized trial, typically, the distribution of the confounders that we are concerned about, will differ between the treatment groups. The next section will describe matching, which is a technique that aims to address this issue."
   ]
  },
  {
   "cell_type": "markdown",
   "metadata": {},
   "source": [
    "## Matching"
   ]
  },
  {
   "cell_type": "markdown",
   "metadata": {},
   "source": [
    "**Matching** is a method that **attempts to control confounding variables and make an observational study more like a randomized trial**.        \n",
    "\n",
    "*The main idea is to match individuals in the treatment group $A=1$ to similar individuals in the control group $A=0$ on the covariates $X$.* This is similar to the notion of estimating the causal effect of the treatment on the treated.\n",
    "\n",
    "e.g. Say there is only 1 covariate that we care about, age. Then, in a randomized trial, for any particular age, there should be about the same number of treated and untreated people. In the cases where older people are more likely to get $A=1$, if we were to match treated people to control people of the same age, there will be about the same number of treated and controls at any age.\n",
    "\n",
    "Once the data are matched, we can treat it as if it was a randomized trial. The advantage of this approach is that it can help reveal lack of overlap in covariate distribution.\n",
    "\n",
    "Caveat is that we can't exactly match on the full set of covariates, so what we'll do is try and make sure the distribution of covariates is balanced between the groups, also referred to as stochastic balance (The distribution of confounders being similar for treated and untreated subjects)."
   ]
  },
  {
   "cell_type": "markdown",
   "metadata": {},
   "source": [
    "### Propensity Scores"
   ]
  },
  {
   "cell_type": "markdown",
   "metadata": {},
   "source": [
    "We've stated during the matching procedure, each test group member is paired with a similar member of the control group. Here we'll elaborate on what we mean by \"similar\".    \n",
    "Similarity is often times computed using **propensity scores**, which is defined as *the probability of receiving treatment, rather than control, given covariates $X$.*\n",
    "\n",
    "We'll define $A=1$ for treatment and $A=0$ for control. The propensity score for subject $i$ is denoted as $\\pi_i$.\n",
    "\n",
    "\\begin{align}\n",
    "\\pi_i = P(A=1 | X_i)\n",
    "\\end{align}\n",
    "\n",
    "As an example, if a person had a propensity score of 0.3, that would mean that given their particular covariates, there was a 30% chance that they'll receive the treatment. We can calculate this score by fitting our favorite classification algorithm to our data (input features are our covariates, and the labels are whether that person belongs to the treatment or control group).\n",
    "\n",
    "With these knowledge in mind, let's get our hands dirty with some code, we'll discuss more as we go along."
   ]
  },
  {
   "cell_type": "markdown",
   "metadata": {},
   "source": [
    "## Implementation"
   ]
  },
  {
   "cell_type": "markdown",
   "metadata": {},
   "source": [
    "I'll be using the [Right Heart Catheterization dataset](http://biostat.mc.vanderbilt.edu/wiki/pub/Main/DataSets/rhc.html). The csv file can be downloaded from the following [link](http://biostat.mc.vanderbilt.edu/wiki/pub/Main/DataSets/rhc.csv)."
   ]
  },
  {
   "cell_type": "markdown",
   "metadata": {},
   "source": [
    "### 1. Import packages"
   ]
  },
  {
   "cell_type": "code",
   "execution_count": 34,
   "metadata": {},
   "outputs": [
    {
     "name": "stdout",
     "output_type": "stream",
     "text": [
      "Vince 2020-10-11 18:41:34 \n",
      "\n",
      "CPython 3.7.4\n",
      "IPython 7.18.1\n",
      "\n",
      "numpy 1.19.1\n",
      "scipy 1.5.2\n",
      "pandas 1.1.3\n",
      "sklearn 0.23.2\n",
      "matplotlib 3.3.1\n",
      "seaborn 0.11.0\n"
     ]
    }
   ],
   "source": [
    "# import os # built-in package\n",
    "# path = os.getcwd()\n",
    "# os.chdir(path)\n",
    "\n",
    "# %load_ext watermark: magic to print version\n",
    "# %load_ext autoreload magic so that the notebook will reload external python modules\n",
    "# %config InlineBackend.figure_format='retina' magic to enable retina (high resolution) plots\n",
    "import warnings\n",
    "warnings.filterwarnings('ignore')\n",
    "%matplotlib inline\n",
    "# %load_ext watermark\n",
    "# %load_ext autoreload\n",
    "\n",
    "%reload_ext watermark\n",
    "%reload_ext autoreload\n",
    "\n",
    "%autoreload 2\n",
    "\n",
    "%config InlineBackend.figure_format='retina'\n",
    "\n",
    "import numpy as np\n",
    "import pandas as pd\n",
    "import seaborn as sns\n",
    "import scipy.stats as stats\n",
    "from pandas_profiling import ProfileReport\n",
    "import matplotlib.pyplot as plt\n",
    "from sklearn.metrics import roc_auc_score, auc, roc_curve\n",
    "from sklearn.compose import ColumnTransformer\n",
    "from sklearn.preprocessing import StandardScaler\n",
    "from sklearn.linear_model import LogisticRegression\n",
    "\n",
    "%watermark -a 'Vince' -d -t -v -p numpy,scipy,pandas,sklearn,matplotlib,seaborn"
   ]
  },
  {
   "cell_type": "markdown",
   "metadata": {},
   "source": [
    "### 2. Load Dataset"
   ]
  },
  {
   "cell_type": "code",
   "execution_count": 44,
   "metadata": {},
   "outputs": [],
   "source": [
    "# I'll only be working with a subset of the variables in the raw dataset,\n",
    "AGE = 'age'\n",
    "MEANBP1 = 'meanbp1'\n",
    "CAT1 = 'cat1'\n",
    "SEX = 'sex'\n",
    "SWANG1 = 'swang1' # treatment variable in our raw data\n",
    "DEATH = 'death' # outcome variable in the our raw data\n",
    "TREATMENT = 'treatment'\n",
    "\n",
    "num_cols = [AGE, MEANBP1]\n",
    "cat_cols = [CAT1, SEX, DEATH, SWANG1]\n",
    "treat_col = [TREATMENT]\n",
    "input_path = 'rhc.csv'\n",
    "dtype = {col: 'category' for col in cat_cols}\n",
    "# df_7 = pd.read_csv(input_path, usecols=num_cols + cat_cols+treat_col, dtype=dtype)\n",
    "df = pd.read_csv(input_path, usecols=num_cols + cat_cols, dtype=dtype)"
   ]
  },
  {
   "cell_type": "markdown",
   "metadata": {},
   "source": [
    "Usually, our treatment group will be smaller than the control group."
   ]
  },
  {
   "cell_type": "markdown",
   "metadata": {},
   "source": [
    "### 3. Exploratory Data Analysis"
   ]
  },
  {
   "cell_type": "code",
   "execution_count": 45,
   "metadata": {},
   "outputs": [
    {
     "name": "stdout",
     "output_type": "stream",
     "text": [
      "<class 'pandas.core.frame.DataFrame'>\n",
      "RangeIndex: 5735 entries, 0 to 5734\n",
      "Data columns (total 6 columns):\n",
      " #   Column   Non-Null Count  Dtype   \n",
      "---  ------   --------------  -----   \n",
      " 0   cat1     5735 non-null   category\n",
      " 1   death    5735 non-null   category\n",
      " 2   age      5735 non-null   float64 \n",
      " 3   sex      5735 non-null   category\n",
      " 4   meanbp1  5735 non-null   float64 \n",
      " 5   swang1   5735 non-null   category\n",
      "dtypes: category(4), float64(2)\n",
      "memory usage: 112.6 KB\n"
     ]
    }
   ],
   "source": [
    "df.info()"
   ]
  },
  {
   "cell_type": "code",
   "execution_count": 46,
   "metadata": {},
   "outputs": [
    {
     "name": "stdout",
     "output_type": "stream",
     "text": [
      "(5735, 6)\n"
     ]
    },
    {
     "data": {
      "text/html": [
       "<div>\n",
       "<style scoped>\n",
       "    .dataframe tbody tr th:only-of-type {\n",
       "        vertical-align: middle;\n",
       "    }\n",
       "\n",
       "    .dataframe tbody tr th {\n",
       "        vertical-align: top;\n",
       "    }\n",
       "\n",
       "    .dataframe thead th {\n",
       "        text-align: right;\n",
       "    }\n",
       "</style>\n",
       "<table border=\"1\" class=\"dataframe\">\n",
       "  <thead>\n",
       "    <tr style=\"text-align: right;\">\n",
       "      <th></th>\n",
       "      <th>cat1</th>\n",
       "      <th>death</th>\n",
       "      <th>age</th>\n",
       "      <th>sex</th>\n",
       "      <th>meanbp1</th>\n",
       "      <th>swang1</th>\n",
       "    </tr>\n",
       "  </thead>\n",
       "  <tbody>\n",
       "    <tr>\n",
       "      <th>0</th>\n",
       "      <td>COPD</td>\n",
       "      <td>No</td>\n",
       "      <td>70.25098</td>\n",
       "      <td>Male</td>\n",
       "      <td>41.0</td>\n",
       "      <td>No RHC</td>\n",
       "    </tr>\n",
       "    <tr>\n",
       "      <th>1</th>\n",
       "      <td>MOSF w/Sepsis</td>\n",
       "      <td>Yes</td>\n",
       "      <td>78.17896</td>\n",
       "      <td>Female</td>\n",
       "      <td>63.0</td>\n",
       "      <td>RHC</td>\n",
       "    </tr>\n",
       "    <tr>\n",
       "      <th>2</th>\n",
       "      <td>MOSF w/Malignancy</td>\n",
       "      <td>No</td>\n",
       "      <td>46.09198</td>\n",
       "      <td>Female</td>\n",
       "      <td>57.0</td>\n",
       "      <td>RHC</td>\n",
       "    </tr>\n",
       "    <tr>\n",
       "      <th>3</th>\n",
       "      <td>ARF</td>\n",
       "      <td>Yes</td>\n",
       "      <td>75.33197</td>\n",
       "      <td>Female</td>\n",
       "      <td>55.0</td>\n",
       "      <td>No RHC</td>\n",
       "    </tr>\n",
       "    <tr>\n",
       "      <th>4</th>\n",
       "      <td>MOSF w/Sepsis</td>\n",
       "      <td>Yes</td>\n",
       "      <td>67.90997</td>\n",
       "      <td>Male</td>\n",
       "      <td>65.0</td>\n",
       "      <td>RHC</td>\n",
       "    </tr>\n",
       "  </tbody>\n",
       "</table>\n",
       "</div>"
      ],
      "text/plain": [
       "                cat1 death       age     sex  meanbp1  swang1\n",
       "0               COPD    No  70.25098    Male     41.0  No RHC\n",
       "1      MOSF w/Sepsis   Yes  78.17896  Female     63.0     RHC\n",
       "2  MOSF w/Malignancy    No  46.09198  Female     57.0     RHC\n",
       "3                ARF   Yes  75.33197  Female     55.0  No RHC\n",
       "4      MOSF w/Sepsis   Yes  67.90997    Male     65.0     RHC"
      ]
     },
     "execution_count": 46,
     "metadata": {},
     "output_type": "execute_result"
    }
   ],
   "source": [
    "print(df.shape)\n",
    "df.head()"
   ]
  },
  {
   "cell_type": "code",
   "execution_count": 48,
   "metadata": {},
   "outputs": [
    {
     "data": {
      "text/plain": [
       "9"
      ]
     },
     "execution_count": 48,
     "metadata": {},
     "output_type": "execute_result"
    }
   ],
   "source": [
    "df.cat1.nunique()"
   ]
  },
  {
   "cell_type": "code",
   "execution_count": 49,
   "metadata": {},
   "outputs": [
    {
     "name": "stdout",
     "output_type": "stream",
     "text": [
      "cat1  \t     9\t\n",
      "sex   \t     2\t\n",
      "death \t     2\t\n",
      "swang1\t     2\t\n"
     ]
    }
   ],
   "source": [
    "# Display # of unique values and fisrt 5 uniques values in terms of count of each column\n",
    "for column in cat_cols:\n",
    "    nuniques = df[column].nunique()\n",
    "    uniques = df[column].unique()\n",
    "#     uniques = sorted(data[column].unique())    # sort by unique value itself, not by its count\n",
    "#     print('{0:6s}\\t {1:5d}\\t'.format(column, nuniques), uniques[:1])\n",
    "    print('{0:6s}\\t {1:5d}\\t'.format(column, nuniques))"
   ]
  },
  {
   "cell_type": "code",
   "execution_count": 50,
   "metadata": {},
   "outputs": [
    {
     "data": {
      "text/plain": [
       "No RHC    3551\n",
       "RHC       2184\n",
       "Name: swang1, dtype: int64"
      ]
     },
     "execution_count": 50,
     "metadata": {},
     "output_type": "execute_result"
    }
   ],
   "source": [
    "# replace this column with treatment yes or no\n",
    "df[SWANG1].value_counts()"
   ]
  },
  {
   "cell_type": "code",
   "execution_count": 51,
   "metadata": {},
   "outputs": [
    {
     "data": {
      "text/plain": [
       "ARF                  2490\n",
       "MOSF w/Sepsis        1227\n",
       "COPD                  457\n",
       "CHF                   456\n",
       "Coma                  436\n",
       "MOSF w/Malignancy     399\n",
       "Cirrhosis             224\n",
       "Lung Cancer            39\n",
       "Colon Cancer            7\n",
       "Name: cat1, dtype: int64"
      ]
     },
     "execution_count": 51,
     "metadata": {},
     "output_type": "execute_result"
    }
   ],
   "source": [
    "# replace these values with shorter names\n",
    "df[CAT1].value_counts()"
   ]
  },
  {
   "cell_type": "markdown",
   "metadata": {},
   "source": [
    "### 4. Feature Engineering"
   ]
  },
  {
   "cell_type": "code",
   "execution_count": 52,
   "metadata": {},
   "outputs": [
    {
     "name": "stdout",
     "output_type": "stream",
     "text": [
      "{'death': {0: 'No', 1: 'Yes'}, 'swang1': {0: 'No RHC', 1: 'RHC'}, 'sex': {0: 'Female', 1: 'Male'}}\n"
     ]
    },
    {
     "data": {
      "text/html": [
       "<div>\n",
       "<style scoped>\n",
       "    .dataframe tbody tr th:only-of-type {\n",
       "        vertical-align: middle;\n",
       "    }\n",
       "\n",
       "    .dataframe tbody tr th {\n",
       "        vertical-align: top;\n",
       "    }\n",
       "\n",
       "    .dataframe thead th {\n",
       "        text-align: right;\n",
       "    }\n",
       "</style>\n",
       "<table border=\"1\" class=\"dataframe\">\n",
       "  <thead>\n",
       "    <tr style=\"text-align: right;\">\n",
       "      <th></th>\n",
       "      <th>cat1</th>\n",
       "      <th>death</th>\n",
       "      <th>age</th>\n",
       "      <th>sex</th>\n",
       "      <th>meanbp1</th>\n",
       "      <th>treatment</th>\n",
       "    </tr>\n",
       "  </thead>\n",
       "  <tbody>\n",
       "    <tr>\n",
       "      <th>0</th>\n",
       "      <td>copd</td>\n",
       "      <td>0</td>\n",
       "      <td>70.25098</td>\n",
       "      <td>1</td>\n",
       "      <td>41.0</td>\n",
       "      <td>0</td>\n",
       "    </tr>\n",
       "    <tr>\n",
       "      <th>1</th>\n",
       "      <td>mosf_sepsis</td>\n",
       "      <td>1</td>\n",
       "      <td>78.17896</td>\n",
       "      <td>0</td>\n",
       "      <td>63.0</td>\n",
       "      <td>1</td>\n",
       "    </tr>\n",
       "    <tr>\n",
       "      <th>2</th>\n",
       "      <td>mosf</td>\n",
       "      <td>0</td>\n",
       "      <td>46.09198</td>\n",
       "      <td>0</td>\n",
       "      <td>57.0</td>\n",
       "      <td>1</td>\n",
       "    </tr>\n",
       "    <tr>\n",
       "      <th>3</th>\n",
       "      <td>arf</td>\n",
       "      <td>1</td>\n",
       "      <td>75.33197</td>\n",
       "      <td>0</td>\n",
       "      <td>55.0</td>\n",
       "      <td>0</td>\n",
       "    </tr>\n",
       "    <tr>\n",
       "      <th>4</th>\n",
       "      <td>mosf_sepsis</td>\n",
       "      <td>1</td>\n",
       "      <td>67.90997</td>\n",
       "      <td>1</td>\n",
       "      <td>65.0</td>\n",
       "      <td>1</td>\n",
       "    </tr>\n",
       "  </tbody>\n",
       "</table>\n",
       "</div>"
      ],
      "text/plain": [
       "          cat1  death       age  sex  meanbp1  treatment\n",
       "0         copd      0  70.25098    1     41.0          0\n",
       "1  mosf_sepsis      1  78.17896    0     63.0          1\n",
       "2         mosf      0  46.09198    0     57.0          1\n",
       "3          arf      1  75.33197    0     55.0          0\n",
       "4  mosf_sepsis      1  67.90997    1     65.0          1"
      ]
     },
     "execution_count": 52,
     "metadata": {},
     "output_type": "execute_result"
    }
   ],
   "source": [
    "# replace spaces and forward slash\n",
    "cat1_col_mapping = {\n",
    "    'ARF': 'arf',\n",
    "    'MOSF w/Sepsis': 'mosf_sepsis',\n",
    "    'COPD': 'copd',\n",
    "    'CHF': 'chf',\n",
    "    'Coma': 'coma',\n",
    "    'MOSF w/Malignancy': 'mosf',\n",
    "    'Cirrhosis': 'cirrhosis',\n",
    "    'Lung Cancer': 'lung_cancer',\n",
    "    'Colon Cancer': 'colon_cancer'\n",
    "}\n",
    "df[CAT1] = df[CAT1].replace(cat1_col_mapping)\n",
    "\n",
    "# convert binary features' value to numerical value, and store the\n",
    "# numerical value to the original value mapping\n",
    "col_mappings = {}\n",
    "for col in (DEATH, SWANG1, SEX):\n",
    "    col_mapping = dict(enumerate(df[col].cat.categories))\n",
    "    col_mappings[col] = col_mapping\n",
    "print(col_mappings)\n",
    "\n",
    "for col in (DEATH, SWANG1, SEX):\n",
    "    df[col] = df[col].cat.codes\n",
    "\n",
    "df = df.rename({SWANG1: TREATMENT}, axis=1)\n",
    "df.head()"
   ]
  },
  {
   "cell_type": "code",
   "execution_count": 10,
   "metadata": {},
   "outputs": [
    {
     "data": {
      "text/html": [
       "<div>\n",
       "<style scoped>\n",
       "    .dataframe tbody tr th:only-of-type {\n",
       "        vertical-align: middle;\n",
       "    }\n",
       "\n",
       "    .dataframe tbody tr th {\n",
       "        vertical-align: top;\n",
       "    }\n",
       "\n",
       "    .dataframe thead th {\n",
       "        text-align: right;\n",
       "    }\n",
       "</style>\n",
       "<table border=\"1\" class=\"dataframe\">\n",
       "  <thead>\n",
       "    <tr style=\"text-align: right;\">\n",
       "      <th></th>\n",
       "      <th>age</th>\n",
       "      <th>meanbp1</th>\n",
       "      <th>cat1_chf</th>\n",
       "      <th>cat1_cirrhosis</th>\n",
       "      <th>cat1_colon_cancer</th>\n",
       "      <th>cat1_coma</th>\n",
       "      <th>cat1_copd</th>\n",
       "      <th>cat1_lung_cancer</th>\n",
       "      <th>cat1_mosf</th>\n",
       "      <th>cat1_mosf_sepsis</th>\n",
       "      <th>sex</th>\n",
       "      <th>treatment</th>\n",
       "      <th>death</th>\n",
       "    </tr>\n",
       "  </thead>\n",
       "  <tbody>\n",
       "    <tr>\n",
       "      <th>0</th>\n",
       "      <td>70.25098</td>\n",
       "      <td>41.0</td>\n",
       "      <td>0</td>\n",
       "      <td>0</td>\n",
       "      <td>0</td>\n",
       "      <td>0</td>\n",
       "      <td>1</td>\n",
       "      <td>0</td>\n",
       "      <td>0</td>\n",
       "      <td>0</td>\n",
       "      <td>1</td>\n",
       "      <td>0</td>\n",
       "      <td>0</td>\n",
       "    </tr>\n",
       "    <tr>\n",
       "      <th>1</th>\n",
       "      <td>78.17896</td>\n",
       "      <td>63.0</td>\n",
       "      <td>0</td>\n",
       "      <td>0</td>\n",
       "      <td>0</td>\n",
       "      <td>0</td>\n",
       "      <td>0</td>\n",
       "      <td>0</td>\n",
       "      <td>0</td>\n",
       "      <td>1</td>\n",
       "      <td>0</td>\n",
       "      <td>1</td>\n",
       "      <td>1</td>\n",
       "    </tr>\n",
       "    <tr>\n",
       "      <th>2</th>\n",
       "      <td>46.09198</td>\n",
       "      <td>57.0</td>\n",
       "      <td>0</td>\n",
       "      <td>0</td>\n",
       "      <td>0</td>\n",
       "      <td>0</td>\n",
       "      <td>0</td>\n",
       "      <td>0</td>\n",
       "      <td>1</td>\n",
       "      <td>0</td>\n",
       "      <td>0</td>\n",
       "      <td>1</td>\n",
       "      <td>0</td>\n",
       "    </tr>\n",
       "    <tr>\n",
       "      <th>3</th>\n",
       "      <td>75.33197</td>\n",
       "      <td>55.0</td>\n",
       "      <td>0</td>\n",
       "      <td>0</td>\n",
       "      <td>0</td>\n",
       "      <td>0</td>\n",
       "      <td>0</td>\n",
       "      <td>0</td>\n",
       "      <td>0</td>\n",
       "      <td>0</td>\n",
       "      <td>0</td>\n",
       "      <td>0</td>\n",
       "      <td>1</td>\n",
       "    </tr>\n",
       "    <tr>\n",
       "      <th>4</th>\n",
       "      <td>67.90997</td>\n",
       "      <td>65.0</td>\n",
       "      <td>0</td>\n",
       "      <td>0</td>\n",
       "      <td>0</td>\n",
       "      <td>0</td>\n",
       "      <td>0</td>\n",
       "      <td>0</td>\n",
       "      <td>0</td>\n",
       "      <td>1</td>\n",
       "      <td>1</td>\n",
       "      <td>1</td>\n",
       "      <td>1</td>\n",
       "    </tr>\n",
       "  </tbody>\n",
       "</table>\n",
       "</div>"
      ],
      "text/plain": [
       "        age  meanbp1  cat1_chf  cat1_cirrhosis  cat1_colon_cancer  cat1_coma  \\\n",
       "0  70.25098     41.0         0               0                  0          0   \n",
       "1  78.17896     63.0         0               0                  0          0   \n",
       "2  46.09198     57.0         0               0                  0          0   \n",
       "3  75.33197     55.0         0               0                  0          0   \n",
       "4  67.90997     65.0         0               0                  0          0   \n",
       "\n",
       "   cat1_copd  cat1_lung_cancer  cat1_mosf  cat1_mosf_sepsis  sex  treatment  \\\n",
       "0          1                 0          0                 0    1          0   \n",
       "1          0                 0          0                 1    0          1   \n",
       "2          0                 0          1                 0    0          1   \n",
       "3          0                 0          0                 0    0          0   \n",
       "4          0                 0          0                 1    1          1   \n",
       "\n",
       "   death  \n",
       "0      0  \n",
       "1      1  \n",
       "2      0  \n",
       "3      1  \n",
       "4      1  "
      ]
     },
     "execution_count": 10,
     "metadata": {},
     "output_type": "execute_result"
    }
   ],
   "source": [
    "# Convert categorical variable: cat1 into dummy/indicator variables.\n",
    "cat_cols = [CAT1]\n",
    "df_one_hot = pd.get_dummies(df[cat_cols], drop_first=True)\n",
    "df_cleaned = pd.concat([df[num_cols], df_one_hot, df[[SEX, TREATMENT, DEATH]]], axis=1)\n",
    "df_cleaned.head()"
   ]
  },
  {
   "cell_type": "code",
   "execution_count": 53,
   "metadata": {},
   "outputs": [
    {
     "name": "stdout",
     "output_type": "stream",
     "text": [
      "<class 'pandas.core.frame.DataFrame'>\n",
      "RangeIndex: 5735 entries, 0 to 5734\n",
      "Data columns (total 13 columns):\n",
      " #   Column             Non-Null Count  Dtype  \n",
      "---  ------             --------------  -----  \n",
      " 0   age                5735 non-null   float64\n",
      " 1   meanbp1            5735 non-null   float64\n",
      " 2   cat1_chf           5735 non-null   uint8  \n",
      " 3   cat1_cirrhosis     5735 non-null   uint8  \n",
      " 4   cat1_colon_cancer  5735 non-null   uint8  \n",
      " 5   cat1_coma          5735 non-null   uint8  \n",
      " 6   cat1_copd          5735 non-null   uint8  \n",
      " 7   cat1_lung_cancer   5735 non-null   uint8  \n",
      " 8   cat1_mosf          5735 non-null   uint8  \n",
      " 9   cat1_mosf_sepsis   5735 non-null   uint8  \n",
      " 10  sex                5735 non-null   int8   \n",
      " 11  treatment          5735 non-null   int8   \n",
      " 12  death              5735 non-null   int8   \n",
      "dtypes: float64(2), int8(3), uint8(8)\n",
      "memory usage: 151.3 KB\n"
     ]
    }
   ],
   "source": [
    "df_cleaned.info()"
   ]
  },
  {
   "cell_type": "markdown",
   "metadata": {},
   "source": [
    "### 5. Calculate Standardized Mean Differences (SMD)"
   ]
  },
  {
   "cell_type": "markdown",
   "metadata": {},
   "source": [
    "Given all of these covariates and our column `treatment` that indicates whether the subject received the treatment or control, we wish to have a quantitative way of measuring whether our covariates are balanced between the two groups.\n",
    "\n",
    "To assess whether balance has been achieved, we can look at **Standardized Mean Differences (SMD)**, which is calculated by the difference in the means between the two groups divided by the pooled standard deviation.\n",
    "\n",
    "\\begin{align}\n",
    "SMD = \\frac{\\bar{X}_t - \\bar{X}_c}{\\sqrt{(s^2_t + s^2_c) / 2}}\n",
    "\\end{align}\n",
    "\n",
    "Where:\n",
    "\n",
    "- $\\bar{X}_t$, $\\bar{X}_c$ denotes the mean of that feature for the treatment and control group respectively. Note that people often times report the absolute value of this number.\n",
    "- $s^2_t$, $s^2_c$ denotes the standard deviation of that feature for the treatment and control group respectively. For the denominator we're essentially calculating the pooled standard deviation.\n",
    "\n",
    "We can calculate the standardized mean differences for every feature. If our calculated smd is 1, then that means there's a 1 standard deviation difference in means. The benefit of having standard deviation in the denominator is that this number becomes insensitive to the scale of the feature. After computing this measurement for all of our features, there is a rule of thumb that are commonly used to determine whether that feature is balanced or not, (similar to the 0.05 for p-value idea).\n",
    "\n",
    "- Smaller than $0.1$. For a randomized trial, the smd between all of the covariates should typically fall into this bucket.\n",
    "- $0.1$ - $0.2$. Not necessarily balanced, but small enough that people are usually not too worried about them. Sometimes, even after performing matching, there might still be a few covariates whose smd fall under this range.\n",
    "- $0.2$. Values that are greater than this threshold are considered seriously imbalanced."
   ]
  },
  {
   "cell_type": "code",
   "execution_count": 12,
   "metadata": {},
   "outputs": [],
   "source": [
    "# profile = ProfileReport(df_cleaned, title='RHC Dataset Profiling Report')\n",
    "# profile.to_file(\"RHC_data_report.html\")"
   ]
  },
  {
   "cell_type": "code",
   "execution_count": 13,
   "metadata": {},
   "outputs": [
    {
     "data": {
      "text/plain": [
       "{'treatment': 'count',\n",
       " 'age': ['mean', 'std'],\n",
       " 'meanbp1': ['mean', 'std'],\n",
       " 'cat1_chf': ['mean', 'std'],\n",
       " 'cat1_cirrhosis': ['mean', 'std'],\n",
       " 'cat1_colon_cancer': ['mean', 'std'],\n",
       " 'cat1_coma': ['mean', 'std'],\n",
       " 'cat1_copd': ['mean', 'std'],\n",
       " 'cat1_lung_cancer': ['mean', 'std'],\n",
       " 'cat1_mosf': ['mean', 'std'],\n",
       " 'cat1_mosf_sepsis': ['mean', 'std'],\n",
       " 'sex': ['mean', 'std']}"
      ]
     },
     "execution_count": 13,
     "metadata": {},
     "output_type": "execute_result"
    }
   ],
   "source": [
    "features = df_cleaned.columns.tolist()\n",
    "features.remove(TREATMENT)\n",
    "features.remove(DEATH)\n",
    "\n",
    "agg_operations = {TREATMENT: 'count'}\n",
    "agg_operations.update({\n",
    "    feature: ['mean', 'std'] for feature in features\n",
    "})\n",
    "\n",
    "agg_operations"
   ]
  },
  {
   "cell_type": "code",
   "execution_count": 14,
   "metadata": {},
   "outputs": [
    {
     "data": {
      "text/plain": [
       "(5735, 13)"
      ]
     },
     "execution_count": 14,
     "metadata": {},
     "output_type": "execute_result"
    }
   ],
   "source": [
    "df_cleaned.shape"
   ]
  },
  {
   "cell_type": "code",
   "execution_count": 15,
   "metadata": {},
   "outputs": [
    {
     "data": {
      "text/html": [
       "<div>\n",
       "<style scoped>\n",
       "    .dataframe tbody tr th:only-of-type {\n",
       "        vertical-align: middle;\n",
       "    }\n",
       "\n",
       "    .dataframe tbody tr th {\n",
       "        vertical-align: top;\n",
       "    }\n",
       "\n",
       "    .dataframe thead tr th {\n",
       "        text-align: left;\n",
       "    }\n",
       "\n",
       "    .dataframe thead tr:last-of-type th {\n",
       "        text-align: right;\n",
       "    }\n",
       "</style>\n",
       "<table border=\"1\" class=\"dataframe\">\n",
       "  <thead>\n",
       "    <tr>\n",
       "      <th></th>\n",
       "      <th>treatment</th>\n",
       "      <th colspan=\"2\" halign=\"left\">age</th>\n",
       "      <th colspan=\"2\" halign=\"left\">meanbp1</th>\n",
       "      <th colspan=\"2\" halign=\"left\">cat1_chf</th>\n",
       "      <th colspan=\"2\" halign=\"left\">cat1_cirrhosis</th>\n",
       "      <th>cat1_colon_cancer</th>\n",
       "      <th>...</th>\n",
       "      <th colspan=\"2\" halign=\"left\">cat1_copd</th>\n",
       "      <th colspan=\"2\" halign=\"left\">cat1_lung_cancer</th>\n",
       "      <th colspan=\"2\" halign=\"left\">cat1_mosf</th>\n",
       "      <th colspan=\"2\" halign=\"left\">cat1_mosf_sepsis</th>\n",
       "      <th colspan=\"2\" halign=\"left\">sex</th>\n",
       "    </tr>\n",
       "    <tr>\n",
       "      <th></th>\n",
       "      <th>count</th>\n",
       "      <th>mean</th>\n",
       "      <th>std</th>\n",
       "      <th>mean</th>\n",
       "      <th>std</th>\n",
       "      <th>mean</th>\n",
       "      <th>std</th>\n",
       "      <th>mean</th>\n",
       "      <th>std</th>\n",
       "      <th>mean</th>\n",
       "      <th>...</th>\n",
       "      <th>mean</th>\n",
       "      <th>std</th>\n",
       "      <th>mean</th>\n",
       "      <th>std</th>\n",
       "      <th>mean</th>\n",
       "      <th>std</th>\n",
       "      <th>mean</th>\n",
       "      <th>std</th>\n",
       "      <th>mean</th>\n",
       "      <th>std</th>\n",
       "    </tr>\n",
       "    <tr>\n",
       "      <th>treatment</th>\n",
       "      <th></th>\n",
       "      <th></th>\n",
       "      <th></th>\n",
       "      <th></th>\n",
       "      <th></th>\n",
       "      <th></th>\n",
       "      <th></th>\n",
       "      <th></th>\n",
       "      <th></th>\n",
       "      <th></th>\n",
       "      <th></th>\n",
       "      <th></th>\n",
       "      <th></th>\n",
       "      <th></th>\n",
       "      <th></th>\n",
       "      <th></th>\n",
       "      <th></th>\n",
       "      <th></th>\n",
       "      <th></th>\n",
       "      <th></th>\n",
       "      <th></th>\n",
       "    </tr>\n",
       "  </thead>\n",
       "  <tbody>\n",
       "    <tr>\n",
       "      <th>0</th>\n",
       "      <td>3551</td>\n",
       "      <td>61.760926</td>\n",
       "      <td>17.287674</td>\n",
       "      <td>84.868629</td>\n",
       "      <td>38.874134</td>\n",
       "      <td>0.069558</td>\n",
       "      <td>0.254436</td>\n",
       "      <td>0.049282</td>\n",
       "      <td>0.216486</td>\n",
       "      <td>0.001690</td>\n",
       "      <td>...</td>\n",
       "      <td>0.112363</td>\n",
       "      <td>0.315857</td>\n",
       "      <td>0.009575</td>\n",
       "      <td>0.097395</td>\n",
       "      <td>0.067868</td>\n",
       "      <td>0.251555</td>\n",
       "      <td>0.148409</td>\n",
       "      <td>0.355555</td>\n",
       "      <td>0.539003</td>\n",
       "      <td>0.498547</td>\n",
       "    </tr>\n",
       "    <tr>\n",
       "      <th>1</th>\n",
       "      <td>2184</td>\n",
       "      <td>60.749836</td>\n",
       "      <td>15.630698</td>\n",
       "      <td>68.197802</td>\n",
       "      <td>34.242209</td>\n",
       "      <td>0.095696</td>\n",
       "      <td>0.294241</td>\n",
       "      <td>0.022436</td>\n",
       "      <td>0.148130</td>\n",
       "      <td>0.000458</td>\n",
       "      <td>...</td>\n",
       "      <td>0.026557</td>\n",
       "      <td>0.160821</td>\n",
       "      <td>0.002289</td>\n",
       "      <td>0.047804</td>\n",
       "      <td>0.072344</td>\n",
       "      <td>0.259117</td>\n",
       "      <td>0.320513</td>\n",
       "      <td>0.466781</td>\n",
       "      <td>0.585165</td>\n",
       "      <td>0.492806</td>\n",
       "    </tr>\n",
       "  </tbody>\n",
       "</table>\n",
       "<p>2 rows × 23 columns</p>\n",
       "</div>"
      ],
      "text/plain": [
       "          treatment        age               meanbp1             cat1_chf  \\\n",
       "              count       mean        std       mean        std      mean   \n",
       "treatment                                                                   \n",
       "0              3551  61.760926  17.287674  84.868629  38.874134  0.069558   \n",
       "1              2184  60.749836  15.630698  68.197802  34.242209  0.095696   \n",
       "\n",
       "                    cat1_cirrhosis           cat1_colon_cancer  ... cat1_copd  \\\n",
       "                std           mean       std              mean  ...      mean   \n",
       "treatment                                                       ...             \n",
       "0          0.254436       0.049282  0.216486          0.001690  ...  0.112363   \n",
       "1          0.294241       0.022436  0.148130          0.000458  ...  0.026557   \n",
       "\n",
       "                    cat1_lung_cancer           cat1_mosf            \\\n",
       "                std             mean       std      mean       std   \n",
       "treatment                                                            \n",
       "0          0.315857         0.009575  0.097395  0.067868  0.251555   \n",
       "1          0.160821         0.002289  0.047804  0.072344  0.259117   \n",
       "\n",
       "          cat1_mosf_sepsis                 sex            \n",
       "                      mean       std      mean       std  \n",
       "treatment                                                 \n",
       "0                 0.148409  0.355555  0.539003  0.498547  \n",
       "1                 0.320513  0.466781  0.585165  0.492806  \n",
       "\n",
       "[2 rows x 23 columns]"
      ]
     },
     "execution_count": 15,
     "metadata": {},
     "output_type": "execute_result"
    }
   ],
   "source": [
    "table_one = df_cleaned.groupby(TREATMENT).agg(agg_operations)\n",
    "table_one"
   ]
  },
  {
   "cell_type": "code",
   "execution_count": 16,
   "metadata": {},
   "outputs": [
    {
     "data": {
      "text/plain": [
       "(2, 23)"
      ]
     },
     "execution_count": 16,
     "metadata": {},
     "output_type": "execute_result"
    }
   ],
   "source": [
    "table_one.shape"
   ]
  },
  {
   "cell_type": "code",
   "execution_count": 17,
   "metadata": {},
   "outputs": [
    {
     "data": {
      "text/plain": [
       "['age',\n",
       " 'meanbp1',\n",
       " 'cat1_chf',\n",
       " 'cat1_cirrhosis',\n",
       " 'cat1_colon_cancer',\n",
       " 'cat1_coma',\n",
       " 'cat1_copd',\n",
       " 'cat1_lung_cancer',\n",
       " 'cat1_mosf',\n",
       " 'cat1_mosf_sepsis',\n",
       " 'sex']"
      ]
     },
     "execution_count": 17,
     "metadata": {},
     "output_type": "execute_result"
    }
   ],
   "source": [
    "features"
   ]
  },
  {
   "cell_type": "code",
   "execution_count": 18,
   "metadata": {},
   "outputs": [
    {
     "data": {
      "text/html": [
       "<div>\n",
       "<style scoped>\n",
       "    .dataframe tbody tr th:only-of-type {\n",
       "        vertical-align: middle;\n",
       "    }\n",
       "\n",
       "    .dataframe tbody tr th {\n",
       "        vertical-align: top;\n",
       "    }\n",
       "\n",
       "    .dataframe thead th {\n",
       "        text-align: right;\n",
       "    }\n",
       "</style>\n",
       "<table border=\"1\" class=\"dataframe\">\n",
       "  <thead>\n",
       "    <tr style=\"text-align: right;\">\n",
       "      <th></th>\n",
       "      <th>features</th>\n",
       "      <th>smd</th>\n",
       "    </tr>\n",
       "  </thead>\n",
       "  <tbody>\n",
       "    <tr>\n",
       "      <th>0</th>\n",
       "      <td>age</td>\n",
       "      <td>0.0614</td>\n",
       "    </tr>\n",
       "    <tr>\n",
       "      <th>1</th>\n",
       "      <td>meanbp1</td>\n",
       "      <td>0.4551</td>\n",
       "    </tr>\n",
       "    <tr>\n",
       "      <th>2</th>\n",
       "      <td>cat1_chf</td>\n",
       "      <td>0.0950</td>\n",
       "    </tr>\n",
       "    <tr>\n",
       "      <th>3</th>\n",
       "      <td>cat1_cirrhosis</td>\n",
       "      <td>0.1447</td>\n",
       "    </tr>\n",
       "    <tr>\n",
       "      <th>4</th>\n",
       "      <td>cat1_colon_cancer</td>\n",
       "      <td>0.0376</td>\n",
       "    </tr>\n",
       "    <tr>\n",
       "      <th>5</th>\n",
       "      <td>cat1_coma</td>\n",
       "      <td>0.2073</td>\n",
       "    </tr>\n",
       "    <tr>\n",
       "      <th>6</th>\n",
       "      <td>cat1_copd</td>\n",
       "      <td>0.3424</td>\n",
       "    </tr>\n",
       "    <tr>\n",
       "      <th>7</th>\n",
       "      <td>cat1_lung_cancer</td>\n",
       "      <td>0.0950</td>\n",
       "    </tr>\n",
       "    <tr>\n",
       "      <th>8</th>\n",
       "      <td>cat1_mosf</td>\n",
       "      <td>0.0175</td>\n",
       "    </tr>\n",
       "    <tr>\n",
       "      <th>9</th>\n",
       "      <td>cat1_mosf_sepsis</td>\n",
       "      <td>0.4148</td>\n",
       "    </tr>\n",
       "    <tr>\n",
       "      <th>10</th>\n",
       "      <td>sex</td>\n",
       "      <td>0.0931</td>\n",
       "    </tr>\n",
       "  </tbody>\n",
       "</table>\n",
       "</div>"
      ],
      "text/plain": [
       "             features     smd\n",
       "0                 age  0.0614\n",
       "1             meanbp1  0.4551\n",
       "2            cat1_chf  0.0950\n",
       "3      cat1_cirrhosis  0.1447\n",
       "4   cat1_colon_cancer  0.0376\n",
       "5           cat1_coma  0.2073\n",
       "6           cat1_copd  0.3424\n",
       "7    cat1_lung_cancer  0.0950\n",
       "8           cat1_mosf  0.0175\n",
       "9    cat1_mosf_sepsis  0.4148\n",
       "10                sex  0.0931"
      ]
     },
     "execution_count": 18,
     "metadata": {},
     "output_type": "execute_result"
    }
   ],
   "source": [
    "def compute_table_one_smd(table_one: pd.DataFrame, round_digits: int=4) -> pd.DataFrame:\n",
    "    feature_smds = []\n",
    "    for feature in features:\n",
    "        feature_table_one = table_one[feature].values\n",
    "        control_mean = feature_table_one[0, 0]\n",
    "        control_std = feature_table_one[0, 1]\n",
    "        treat_mean = feature_table_one[1, 0]\n",
    "        treat_std = feature_table_one[1, 1]\n",
    "\n",
    "        smd = (treat_mean - control_mean) / np.sqrt((treat_std ** 2 + control_std ** 2) / 2)\n",
    "        smd = round(abs(smd), round_digits)\n",
    "        feature_smds.append(smd)\n",
    "\n",
    "    return pd.DataFrame({'features': features, 'smd': feature_smds})\n",
    "\n",
    "\n",
    "table_one_smd = compute_table_one_smd(table_one)\n",
    "table_one_smd"
   ]
  },
  {
   "cell_type": "markdown",
   "metadata": {},
   "source": [
    "The next step will actually fit the propensity score."
   ]
  },
  {
   "cell_type": "markdown",
   "metadata": {},
   "source": [
    "### 6. Data Pipeline and Machine Learning Model"
   ]
  },
  {
   "cell_type": "code",
   "execution_count": 19,
   "metadata": {},
   "outputs": [
    {
     "data": {
      "text/plain": [
       "(5735, 11)"
      ]
     },
     "execution_count": 19,
     "metadata": {},
     "output_type": "execute_result"
    }
   ],
   "source": [
    "# treatment will be our label for estimating the propensity score,\n",
    "# and death is the outcome that we care about, thus is also removed\n",
    "# from the step that is estimating the propensity score\n",
    "death = df_cleaned[DEATH]\n",
    "treatment = df_cleaned[TREATMENT]\n",
    "df_cleaned = df_cleaned.drop([DEATH, TREATMENT], axis=1)\n",
    "\n",
    "# Apply StandardScaler (removing the mean and scaling to unit variance) transformer \n",
    "# to numerical columns of pandas DataFrame.\n",
    "column_transformer = ColumnTransformer(\n",
    "    [('numerical', StandardScaler(), num_cols)],\n",
    "    sparse_threshold=0,\n",
    "    remainder='passthrough'\n",
    ")\n",
    "data = column_transformer.fit_transform(df_cleaned)\n",
    "data.shape"
   ]
  },
  {
   "cell_type": "code",
   "execution_count": 54,
   "metadata": {},
   "outputs": [
    {
     "data": {
      "text/html": [
       "<div>\n",
       "<style scoped>\n",
       "    .dataframe tbody tr th:only-of-type {\n",
       "        vertical-align: middle;\n",
       "    }\n",
       "\n",
       "    .dataframe tbody tr th {\n",
       "        vertical-align: top;\n",
       "    }\n",
       "\n",
       "    .dataframe thead th {\n",
       "        text-align: right;\n",
       "    }\n",
       "</style>\n",
       "<table border=\"1\" class=\"dataframe\">\n",
       "  <thead>\n",
       "    <tr style=\"text-align: right;\">\n",
       "      <th></th>\n",
       "      <th>age</th>\n",
       "      <th>meanbp1</th>\n",
       "      <th>cat1_chf</th>\n",
       "      <th>cat1_cirrhosis</th>\n",
       "      <th>cat1_colon_cancer</th>\n",
       "      <th>cat1_coma</th>\n",
       "      <th>cat1_copd</th>\n",
       "      <th>cat1_lung_cancer</th>\n",
       "      <th>cat1_mosf</th>\n",
       "      <th>cat1_mosf_sepsis</th>\n",
       "      <th>sex</th>\n",
       "      <th>treatment</th>\n",
       "      <th>death</th>\n",
       "    </tr>\n",
       "  </thead>\n",
       "  <tbody>\n",
       "    <tr>\n",
       "      <th>0</th>\n",
       "      <td>70.25098</td>\n",
       "      <td>41.0</td>\n",
       "      <td>0</td>\n",
       "      <td>0</td>\n",
       "      <td>0</td>\n",
       "      <td>0</td>\n",
       "      <td>1</td>\n",
       "      <td>0</td>\n",
       "      <td>0</td>\n",
       "      <td>0</td>\n",
       "      <td>1</td>\n",
       "      <td>0</td>\n",
       "      <td>0</td>\n",
       "    </tr>\n",
       "    <tr>\n",
       "      <th>1</th>\n",
       "      <td>78.17896</td>\n",
       "      <td>63.0</td>\n",
       "      <td>0</td>\n",
       "      <td>0</td>\n",
       "      <td>0</td>\n",
       "      <td>0</td>\n",
       "      <td>0</td>\n",
       "      <td>0</td>\n",
       "      <td>0</td>\n",
       "      <td>1</td>\n",
       "      <td>0</td>\n",
       "      <td>1</td>\n",
       "      <td>1</td>\n",
       "    </tr>\n",
       "  </tbody>\n",
       "</table>\n",
       "</div>"
      ],
      "text/plain": [
       "        age  meanbp1  cat1_chf  cat1_cirrhosis  cat1_colon_cancer  cat1_coma  \\\n",
       "0  70.25098     41.0         0               0                  0          0   \n",
       "1  78.17896     63.0         0               0                  0          0   \n",
       "\n",
       "   cat1_copd  cat1_lung_cancer  cat1_mosf  cat1_mosf_sepsis  sex  treatment  \\\n",
       "0          1                 0          0                 0    1          0   \n",
       "1          0                 0          0                 1    0          1   \n",
       "\n",
       "   death  \n",
       "0      0  \n",
       "1      1  "
      ]
     },
     "execution_count": 54,
     "metadata": {},
     "output_type": "execute_result"
    }
   ],
   "source": [
    "df_cleaned.head(2)"
   ]
  },
  {
   "cell_type": "code",
   "execution_count": 55,
   "metadata": {},
   "outputs": [
    {
     "data": {
      "text/plain": [
       "array([[ 0.53206501, -0.98624691,  0.        ,  0.        ,  0.        ,\n",
       "         0.        ,  1.        ,  0.        ,  0.        ,  0.        ,\n",
       "         1.        ],\n",
       "       [ 1.00735004, -0.40795795,  0.        ,  0.        ,  0.        ,\n",
       "         0.        ,  0.        ,  0.        ,  0.        ,  1.        ,\n",
       "         0.        ]])"
      ]
     },
     "execution_count": 55,
     "metadata": {},
     "output_type": "execute_result"
    }
   ],
   "source": [
    "# the output of tranformer: data is numpy array\n",
    "data[:2]"
   ]
  },
  {
   "cell_type": "code",
   "execution_count": 56,
   "metadata": {},
   "outputs": [
    {
     "data": {
      "text/plain": [
       "LogisticRegression(solver='liblinear')"
      ]
     },
     "execution_count": 56,
     "metadata": {},
     "output_type": "execute_result"
    }
   ],
   "source": [
    "# logistic = LogisticRegression()\n",
    "logistic = LogisticRegression(solver='liblinear')\n",
    "logistic.fit(data, treatment)"
   ]
  },
  {
   "cell_type": "code",
   "execution_count": 61,
   "metadata": {},
   "outputs": [
    {
     "data": {
      "text/plain": [
       "array([0.2015413 , 0.55090913, 0.40984636, ..., 0.17665099, 0.18749954,\n",
       "       0.2204119 ])"
      ]
     },
     "execution_count": 61,
     "metadata": {},
     "output_type": "execute_result"
    }
   ],
   "source": [
    "# The returned probability estimates for all classes\n",
    "pscore = logistic.predict_proba(data)[:, 1]\n",
    "pscore"
   ]
  },
  {
   "cell_type": "code",
   "execution_count": 24,
   "metadata": {},
   "outputs": [
    {
     "data": {
      "text/plain": [
       "0.6903390599356525"
      ]
     },
     "execution_count": 24,
     "metadata": {},
     "output_type": "execute_result"
    }
   ],
   "source": [
    "# Compute Area Under the Receiver Operating Characteristic Curve (ROC AUC) from prediction scores.\n",
    "roc_auc_score(treatment, pscore)"
   ]
  },
  {
   "cell_type": "code",
   "execution_count": 69,
   "metadata": {},
   "outputs": [
    {
     "name": "stdout",
     "output_type": "stream",
     "text": [
      "Hello World!\n",
      "Hello World!\n",
      "Hello World!\n",
      "Hello World!\n",
      "Hello World!\n"
     ]
    }
   ],
   "source": [
    "for _ in range(0,10,2):\n",
    "    print('Hello World!')"
   ]
  },
  {
   "cell_type": "code",
   "execution_count": 74,
   "metadata": {},
   "outputs": [
    {
     "data": {
      "image/png": "[encoded data removed]",
      "text/plain": [
       "<Figure size 432x288 with 1 Axes>"
      ]
     },
     "metadata": {
      "image/png": {
       "height": 248,
       "width": 372
      },
      "needs_background": "light"
     },
     "output_type": "display_data"
    }
   ],
   "source": [
    "# 占位符\n",
    "fpr, tpr, _ = roc_curve(treatment, pscore)\n",
    "plt.plot(fpr, tpr);\n",
    "plt.grid()"
   ]
  },
  {
   "cell_type": "code",
   "execution_count": 73,
   "metadata": {},
   "outputs": [],
   "source": [
    "# plt.plot(cc)"
   ]
  },
  {
   "cell_type": "markdown",
   "metadata": {},
   "source": [
    "We won't be spending too much time tweaking the model here, checking some evaluation metric of the model serves as a quick sanity check.\n",
    "\n",
    "Once the propensity score is estimated, it is useful to look for overlap before jumping straight to the matching process. By overlap, we are referring to compare the distribution of the propensity score for the subjects in the control and treatment group."
   ]
  },
  {
   "cell_type": "code",
   "execution_count": 75,
   "metadata": {},
   "outputs": [
    {
     "name": "stdout",
     "output_type": "stream",
     "text": [
      "treatment count: (2184,)\n",
      "control count: (3551,)\n"
     ]
    }
   ],
   "source": [
    "mask = (treatment == 1)\n",
    "pos_pscore = pscore[mask]\n",
    "neg_pscore = pscore[~mask]\n",
    "print('treatment count:', pos_pscore.shape)\n",
    "print('control count:', neg_pscore.shape)"
   ]
  },
  {
   "cell_type": "markdown",
   "metadata": {},
   "source": [
    "Looking at the plot below, we can see that our features, $X$, does in fact contain information about the user receiving treatment. The distributional difference between the propensity scores for the two group justifies the need for matching, since they are not directly comparable otherwise.\n",
    "\n",
    "Although, there's a distributional difference in the density plot, but in this case, what we see is that there's overlap everywhere, so this is actually the kind of plot we would like to see if we're going to do propensity score matching. What we mean by overlap is that no matter where we look on the plot, even though there might be more control than treatment or vice versa, there will still be some subject from either group. The notion of overlap means that our positivity assumption is probably reasonable. Remember positivity refers to the situation where all of the subjects in the study have at least some chance of receiving either treatment. And that appears to be the case here, hence this would be a situation where we would feel comfortable to proceed with our propensity score matching."
   ]
  },
  {
   "cell_type": "code",
   "execution_count": 27,
   "metadata": {},
   "outputs": [
    {
     "name": "stdout",
     "output_type": "stream",
     "text": [
      "0.04744379427821804 0.7738350373219035\n",
      "0.04529110420612853 0.7640800259021088\n"
     ]
    }
   ],
   "source": [
    "print(pos_pscore.min(),pos_pscore.max())\n",
    "print(neg_pscore.min(),neg_pscore.max())"
   ]
  },
  {
   "cell_type": "code",
   "execution_count": 76,
   "metadata": {},
   "outputs": [
    {
     "data": {
      "image/png": "[encoded data removed]",
      "text/plain": [
       "<Figure size 864x432 with 1 Axes>"
      ]
     },
     "metadata": {
      "image/png": {
       "height": 418,
       "width": 851
      },
      "needs_background": "light"
     },
     "output_type": "display_data"
    }
   ],
   "source": [
    "# change default style figure and font size\n",
    "plt.rcParams['figure.figsize'] = 12, 6\n",
    "plt.rcParams['font.size'] = 12\n",
    "\n",
    "N = 100\n",
    "sns.distplot(neg_pscore, label='control', bins = N)\n",
    "sns.distplot(pos_pscore, label='treatment', bins = N)\n",
    "plt.xlim(0, 1)\n",
    "plt.title('Propensity Score Distribution of Control vs Treatment')\n",
    "plt.ylabel('Density')\n",
    "plt.xlabel('Scores')\n",
    "plt.legend()\n",
    "plt.tight_layout()\n",
    "plt.show()"
   ]
  },
  {
   "cell_type": "markdown",
   "metadata": {},
   "source": [
    "Keep in mind that not every plot will look like this, if there's major lack of overlap in some part of the propensity score distribution plot that means our positivity assumption would essentially be violated. Or in other words, we can't really estimate a causal effect in those area of the distribution since in those areas, those are subjects that have close to zero chance of being in the control/treatment group. One thing that we may wish to do when encountered with this scenario is either look and see if we're missing some covariates or get rid of individuals who have extreme propensity scores and focus on the areas where there are strong overlapping.\n",
    "\n",
    "The next step is to perform matching. In general, the procedure looks like this:\n",
    "\n",
    "> We compute the distance between the estimated propensity score for each treated subject with every control. And for every treated subject we would find the subject in the control that has the closest distance to it. These pairs are \"matched\" together and will be included in the final dataset that will be used to estimate the causal effect.\n",
    "\n",
    "But in practice there are actually many different variants to performing the step mentioned above. e.g.\n",
    "\n",
    "First: We mentioned that when there's a lack of balance, we can get rid of individuals who have extreme propensity scores. Some example of doing this includes removing control subjects whose propensity score is less than the minimum in the treatment group and removing treated subjects whose propensity score is greater than the maximum in the control group.\n",
    "\n",
    "Second: Some people would only consider the treatment and control subject to be a match if the difference between their propensity score difference is less than a specified threshold, $\\delta$ (this threshold is also referred to as caliper). In other words, given a user in the treatment group, $u_t$, we find the set of candidate matches from the control group.\n",
    "\n",
    "\\begin{align}\n",
    "C(u_t) = \\{ u_c \\in {\\text control} : |\\pi_{u_c} - \\pi_{u_t}| \\leq \\delta \\}\n",
    "\\end{align}\n",
    "\n",
    "If $|C(u_t)| = 0$, $u_t$ is not matched, and is excluded from further consideration. Otherwise, we select the control user $u_c$ satisfying:\n",
    "\n",
    "\\begin{align}\n",
    "\\text{argmin}_{u_c \\in C(u_t)} \\big|\\pi_{u_c} - \\pi_{u_t}\\big|\n",
    "\\end{align}\n",
    "\n",
    "and retain the pair of users. Reducing the $\\delta$ parameter improves the balance of the final dataset at the cost of reducing its size, we can experiment with different values and see if we retain the majority of the test group.\n",
    "\n",
    "Third: A single user in the control group can potentially be matched to multiple users in the treatment group. To account for this, we can add a weighting to each matched record with the inverse of its frequency. i.e. if a control group user occurred 4 times in the matched dataset, we assigned that record a weight of 1/4. We may wish to check whether duplicates occurs a lot in the final matched dataset. Some implementation gives a flag whether this multiple matched control group scenario is allowed, i.e. whether matching with replacement is allowed. If replacement is not allowed, then matches generally will be found in the same order as the data are sorted. Thus, the match(es) for the first observation will be found first, the match(es) for the second observation will be found second, etc. Matching without replacement will generally increase bias.\n",
    "\n",
    "Here, we'll what we'll do is: for every record in the treatment we find its closest record in the control group without controlling for distance threshold and duplicates."
   ]
  },
  {
   "cell_type": "code",
   "execution_count": 29,
   "metadata": {},
   "outputs": [
    {
     "data": {
      "text/plain": [
       "array([[1703],\n",
       "       [1329],\n",
       "       [2782],\n",
       "       ...,\n",
       "       [1728],\n",
       "       [1909],\n",
       "       [2546]], dtype=int64)"
      ]
     },
     "execution_count": 29,
     "metadata": {},
     "output_type": "execute_result"
    }
   ],
   "source": [
    "def get_similar(pos_pscore: np.ndarray, neg_pscore: np.ndarray, topn: int=5, n_jobs: int=1)  -> np.ndarray:\n",
    "    from sklearn.neighbors import NearestNeighbors\n",
    "\n",
    "    knn = NearestNeighbors(n_neighbors=topn + 1, metric='euclidean', n_jobs=n_jobs)\n",
    "    knn.fit(neg_pscore.reshape(-1, 1))\n",
    "\n",
    "    distances, indices = knn.kneighbors(pos_pscore.reshape(-1, 1))\n",
    "    sim_distances = distances[:, 1:]\n",
    "    sim_indices = indices[:, 1:]\n",
    "    return sim_distances, sim_indices\n",
    "\n",
    "\n",
    "sim_distances, sim_indices = get_similar(pos_pscore, neg_pscore, topn=1)\n",
    "sim_indices"
   ]
  },
  {
   "cell_type": "markdown",
   "metadata": {},
   "source": [
    "We can still check the number of occurrences for the matched control record. As mentioned in the previous section, we can add these information as weights to our dataset, but we won't be doing that here."
   ]
  },
  {
   "cell_type": "code",
   "execution_count": 77,
   "metadata": {},
   "outputs": [
    {
     "data": {
      "text/plain": [
       "array([  0, 810, 309, 121,  47,  12,   6,   7,   3,   4], dtype=int64)"
      ]
     },
     "execution_count": 77,
     "metadata": {},
     "output_type": "execute_result"
    }
   ],
   "source": [
    "_, counts = np.unique(sim_indices[:, 0], return_counts=True)\n",
    "np.bincount(counts)"
   ]
  },
  {
   "cell_type": "markdown",
   "metadata": {},
   "source": [
    "After applying the matching procedure, it's important to check and validate that the matched dataset are indeed indistinguishable in terms of the covariates that we were using to balance the control and treatment group."
   ]
  },
  {
   "cell_type": "code",
   "execution_count": 80,
   "metadata": {},
   "outputs": [
    {
     "data": {
      "text/plain": [
       "treatment\n",
       "0    2184\n",
       "1    2184\n",
       "Name: treatment, dtype: int64"
      ]
     },
     "execution_count": 80,
     "metadata": {},
     "output_type": "execute_result"
    }
   ],
   "source": [
    "df_matched.groupby('treatment')['treatment'].count()"
   ]
  },
  {
   "cell_type": "code",
   "execution_count": 81,
   "metadata": {},
   "outputs": [
    {
     "data": {
      "text/html": [
       "<div>\n",
       "<style scoped>\n",
       "    .dataframe tbody tr th:only-of-type {\n",
       "        vertical-align: middle;\n",
       "    }\n",
       "\n",
       "    .dataframe tbody tr th {\n",
       "        vertical-align: top;\n",
       "    }\n",
       "\n",
       "    .dataframe thead th {\n",
       "        text-align: right;\n",
       "    }\n",
       "</style>\n",
       "<table border=\"1\" class=\"dataframe\">\n",
       "  <thead>\n",
       "    <tr style=\"text-align: right;\">\n",
       "      <th></th>\n",
       "      <th>age</th>\n",
       "      <th>meanbp1</th>\n",
       "      <th>cat1_chf</th>\n",
       "      <th>cat1_cirrhosis</th>\n",
       "      <th>cat1_colon_cancer</th>\n",
       "      <th>cat1_coma</th>\n",
       "      <th>cat1_copd</th>\n",
       "      <th>cat1_lung_cancer</th>\n",
       "      <th>cat1_mosf</th>\n",
       "      <th>cat1_mosf_sepsis</th>\n",
       "      <th>sex</th>\n",
       "      <th>treatment</th>\n",
       "      <th>death</th>\n",
       "    </tr>\n",
       "  </thead>\n",
       "  <tbody>\n",
       "    <tr>\n",
       "      <th>1</th>\n",
       "      <td>78.17896</td>\n",
       "      <td>63.0</td>\n",
       "      <td>0</td>\n",
       "      <td>0</td>\n",
       "      <td>0</td>\n",
       "      <td>0</td>\n",
       "      <td>0</td>\n",
       "      <td>0</td>\n",
       "      <td>0</td>\n",
       "      <td>1</td>\n",
       "      <td>0</td>\n",
       "      <td>1</td>\n",
       "      <td>1</td>\n",
       "    </tr>\n",
       "    <tr>\n",
       "      <th>2</th>\n",
       "      <td>46.09198</td>\n",
       "      <td>57.0</td>\n",
       "      <td>0</td>\n",
       "      <td>0</td>\n",
       "      <td>0</td>\n",
       "      <td>0</td>\n",
       "      <td>0</td>\n",
       "      <td>0</td>\n",
       "      <td>1</td>\n",
       "      <td>0</td>\n",
       "      <td>0</td>\n",
       "      <td>1</td>\n",
       "      <td>0</td>\n",
       "    </tr>\n",
       "    <tr>\n",
       "      <th>4</th>\n",
       "      <td>67.90997</td>\n",
       "      <td>65.0</td>\n",
       "      <td>0</td>\n",
       "      <td>0</td>\n",
       "      <td>0</td>\n",
       "      <td>0</td>\n",
       "      <td>0</td>\n",
       "      <td>0</td>\n",
       "      <td>0</td>\n",
       "      <td>1</td>\n",
       "      <td>1</td>\n",
       "      <td>1</td>\n",
       "      <td>1</td>\n",
       "    </tr>\n",
       "    <tr>\n",
       "      <th>9</th>\n",
       "      <td>48.42398</td>\n",
       "      <td>73.0</td>\n",
       "      <td>0</td>\n",
       "      <td>0</td>\n",
       "      <td>0</td>\n",
       "      <td>0</td>\n",
       "      <td>0</td>\n",
       "      <td>0</td>\n",
       "      <td>0</td>\n",
       "      <td>0</td>\n",
       "      <td>0</td>\n",
       "      <td>1</td>\n",
       "      <td>0</td>\n",
       "    </tr>\n",
       "    <tr>\n",
       "      <th>11</th>\n",
       "      <td>68.34796</td>\n",
       "      <td>50.0</td>\n",
       "      <td>0</td>\n",
       "      <td>0</td>\n",
       "      <td>0</td>\n",
       "      <td>0</td>\n",
       "      <td>0</td>\n",
       "      <td>0</td>\n",
       "      <td>0</td>\n",
       "      <td>0</td>\n",
       "      <td>1</td>\n",
       "      <td>1</td>\n",
       "      <td>0</td>\n",
       "    </tr>\n",
       "  </tbody>\n",
       "</table>\n",
       "</div>"
      ],
      "text/plain": [
       "         age  meanbp1  cat1_chf  cat1_cirrhosis  cat1_colon_cancer  cat1_coma  \\\n",
       "1   78.17896     63.0         0               0                  0          0   \n",
       "2   46.09198     57.0         0               0                  0          0   \n",
       "4   67.90997     65.0         0               0                  0          0   \n",
       "9   48.42398     73.0         0               0                  0          0   \n",
       "11  68.34796     50.0         0               0                  0          0   \n",
       "\n",
       "    cat1_copd  cat1_lung_cancer  cat1_mosf  cat1_mosf_sepsis  sex  treatment  \\\n",
       "1           0                 0          0                 1    0          1   \n",
       "2           0                 0          1                 0    0          1   \n",
       "4           0                 0          0                 1    1          1   \n",
       "9           0                 0          0                 0    0          1   \n",
       "11          0                 0          0                 0    1          1   \n",
       "\n",
       "    death  \n",
       "1       1  \n",
       "2       0  \n",
       "4       1  \n",
       "9       0  \n",
       "11      0  "
      ]
     },
     "execution_count": 81,
     "metadata": {},
     "output_type": "execute_result"
    }
   ],
   "source": [
    "df_cleaned[TREATMENT] = treatment\n",
    "df_cleaned[DEATH] = death\n",
    "df_pos = df_cleaned[mask]\n",
    "df_neg = df_cleaned[~mask].iloc[sim_indices[:, 0]]\n",
    "df_matched = pd.concat([df_pos, df_neg], axis=0)\n",
    "df_matched.head()"
   ]
  },
  {
   "cell_type": "code",
   "execution_count": 82,
   "metadata": {},
   "outputs": [
    {
     "data": {
      "text/html": [
       "<div>\n",
       "<style scoped>\n",
       "    .dataframe tbody tr th:only-of-type {\n",
       "        vertical-align: middle;\n",
       "    }\n",
       "\n",
       "    .dataframe tbody tr th {\n",
       "        vertical-align: top;\n",
       "    }\n",
       "\n",
       "    .dataframe thead th {\n",
       "        text-align: right;\n",
       "    }\n",
       "</style>\n",
       "<table border=\"1\" class=\"dataframe\">\n",
       "  <thead>\n",
       "    <tr style=\"text-align: right;\">\n",
       "      <th></th>\n",
       "      <th>features</th>\n",
       "      <th>smd</th>\n",
       "    </tr>\n",
       "  </thead>\n",
       "  <tbody>\n",
       "    <tr>\n",
       "      <th>0</th>\n",
       "      <td>age</td>\n",
       "      <td>0.0160</td>\n",
       "    </tr>\n",
       "    <tr>\n",
       "      <th>1</th>\n",
       "      <td>meanbp1</td>\n",
       "      <td>0.0072</td>\n",
       "    </tr>\n",
       "    <tr>\n",
       "      <th>2</th>\n",
       "      <td>cat1_chf</td>\n",
       "      <td>0.0184</td>\n",
       "    </tr>\n",
       "    <tr>\n",
       "      <th>3</th>\n",
       "      <td>cat1_cirrhosis</td>\n",
       "      <td>0.0091</td>\n",
       "    </tr>\n",
       "    <tr>\n",
       "      <th>4</th>\n",
       "      <td>cat1_colon_cancer</td>\n",
       "      <td>0.0707</td>\n",
       "    </tr>\n",
       "    <tr>\n",
       "      <th>5</th>\n",
       "      <td>cat1_coma</td>\n",
       "      <td>0.0091</td>\n",
       "    </tr>\n",
       "    <tr>\n",
       "      <th>6</th>\n",
       "      <td>cat1_copd</td>\n",
       "      <td>0.0557</td>\n",
       "    </tr>\n",
       "    <tr>\n",
       "      <th>7</th>\n",
       "      <td>cat1_lung_cancer</td>\n",
       "      <td>0.0626</td>\n",
       "    </tr>\n",
       "    <tr>\n",
       "      <th>8</th>\n",
       "      <td>cat1_mosf</td>\n",
       "      <td>0.0035</td>\n",
       "    </tr>\n",
       "    <tr>\n",
       "      <th>9</th>\n",
       "      <td>cat1_mosf_sepsis</td>\n",
       "      <td>0.0039</td>\n",
       "    </tr>\n",
       "    <tr>\n",
       "      <th>10</th>\n",
       "      <td>sex</td>\n",
       "      <td>0.0324</td>\n",
       "    </tr>\n",
       "  </tbody>\n",
       "</table>\n",
       "</div>"
      ],
      "text/plain": [
       "             features     smd\n",
       "0                 age  0.0160\n",
       "1             meanbp1  0.0072\n",
       "2            cat1_chf  0.0184\n",
       "3      cat1_cirrhosis  0.0091\n",
       "4   cat1_colon_cancer  0.0707\n",
       "5           cat1_coma  0.0091\n",
       "6           cat1_copd  0.0557\n",
       "7    cat1_lung_cancer  0.0626\n",
       "8           cat1_mosf  0.0035\n",
       "9    cat1_mosf_sepsis  0.0039\n",
       "10                sex  0.0324"
      ]
     },
     "execution_count": 82,
     "metadata": {},
     "output_type": "execute_result"
    }
   ],
   "source": [
    "table_one_matched = df_matched.groupby(TREATMENT).agg(agg_operations)\n",
    "table_one_smd_matched = compute_table_one_smd(table_one_matched)\n",
    "table_one_smd_matched"
   ]
  },
  {
   "cell_type": "markdown",
   "metadata": {},
   "source": [
    "Upon completing propensity score matching and verified that our covariates are now fairly balanced using standardized mean difference (smd), we can carry out a outcome analysis using a paired t-test. For all the various knobs that we've described when introducing the matching process, we can experiment with various options and see if our conclusions change."
   ]
  },
  {
   "cell_type": "code",
   "execution_count": 85,
   "metadata": {},
   "outputs": [
    {
     "name": "stdout",
     "output_type": "stream",
     "text": [
      "number of matched pairs:  2184\n"
     ]
    },
    {
     "data": {
      "text/plain": [
       "Ttest_relResult(statistic=2.98993204105555, pvalue=0.0028215776367738962)"
      ]
     },
     "execution_count": 85,
     "metadata": {},
     "output_type": "execute_result"
    }
   ],
   "source": [
    "num_matched_pairs = df_neg.shape[0]\n",
    "print('number of matched pairs: ', num_matched_pairs)\n",
    "\n",
    "# pair t-test\n",
    "# Calculate the t-test on TWO RELATED samples of scores, a and b.\n",
    "stats.ttest_rel(df_pos[DEATH].values, df_neg[DEATH].values)"
   ]
  },
  {
   "cell_type": "markdown",
   "metadata": {},
   "source": [
    "This result tells us after using matching adjustment to ensure comparability between the treatment and control group, we find that receiving Right Heart Catheterization does have an effect on a patient's change of dying."
   ]
  },
  {
   "cell_type": "markdown",
   "metadata": {},
   "source": [
    "# Reference"
   ]
  },
  {
   "cell_type": "markdown",
   "metadata": {},
   "source": [
    "- [Blog: Comparative Statistics in Python using SciPy](http://benalexkeen.com/comparative-statistics-in-python-using-scipy/)\n",
    "- [Cousera: A Crash Course in Causality - Inferring Causal Effects from Observational Data](https://www.coursera.org/learn/crash-course-in-causality/)\n",
    "- [Github: pymatch - Matching techniques for observational studies](https://github.com/benmiroglio/pymatch)\n",
    "- [Table of Contents Propensity Score Matching](http://ethen8181.github.io/machine-learning/ab_tests/causal_inference/matching.html)\n",
    "- [Paper: B. Miroglio, D. Zeber, J. Kaye, R. Weiss - The Effect of Ad Blocking on User Engagement with the Web (2018)](https://dl.acm.org/citation.cfm?id=3178876.3186162)"
   ]
  },
  {
   "cell_type": "code",
   "execution_count": null,
   "metadata": {},
   "outputs": [],
   "source": []
  }
 ],
 "metadata": {
  "kernelspec": {
   "display_name": "Python 3",
   "language": "python",
   "name": "python3"
  },
  "language_info": {
   "codemirror_mode": {
    "name": "ipython",
    "version": 3
   },
   "file_extension": ".py",
   "mimetype": "text/x-python",
   "name": "python",
   "nbconvert_exporter": "python",
   "pygments_lexer": "ipython3",
   "version": "3.7.4"
  },
  "toc": {
   "nav_menu": {},
   "number_sections": true,
   "sideBar": true,
   "skip_h1_title": false,
   "title_cell": "Table of Contents",
   "title_sidebar": "Contents",
   "toc_cell": true,
   "toc_position": {
    "height": "calc(100% - 180px)",
    "left": "10px",
    "top": "150px",
    "width": "280px"
   },
   "toc_section_display": true,
   "toc_window_display": true
  },
  "varInspector": {
   "cols": {
    "lenName": 16,
    "lenType": 16,
    "lenVar": 40
   },
   "kernels_config": {
    "python": {
     "delete_cmd_postfix": "",
     "delete_cmd_prefix": "del ",
     "library": "var_list.py",
     "varRefreshCmd": "print(var_dic_list())"
    },
    "r": {
     "delete_cmd_postfix": ") ",
     "delete_cmd_prefix": "rm(",
     "library": "var_list.r",
     "varRefreshCmd": "cat(var_dic_list()) "
    }
   },
   "types_to_exclude": [
    "module",
    "function",
    "builtin_function_or_method",
    "instance",
    "_Feature"
   ],
   "window_display": false
  }
 },
 "nbformat": 4,
 "nbformat_minor": 2
}
