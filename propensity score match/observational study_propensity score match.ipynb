{
 "cells": [
  {
   "cell_type": "markdown",
   "metadata": {},
   "source": [
    "# Observational study and Propensity score matching "
   ]
  },
  {
   "cell_type": "markdown",
   "metadata": {},
   "source": [
    "- Causal Inference\n",
    "-- The Definition of Causal Effect\n",
    "1.2  Assumptions of Estimating Causal Effect\n",
    "1.3  Confounders\n",
    "1.4  Randomized Trials v.s. Observational Studies\n",
    "1.5  Matching\n",
    "1.5.1  Propensity Scores\n",
    "1.6  Implementation\n",
    "- Reference"
   ]
  },
  {
   "cell_type": "code",
   "execution_count": 12,
   "metadata": {},
   "outputs": [],
   "source": [
    "# code for loading the format for the notebook\n",
    "import os\n",
    "\n",
    "# path : store the current path to convert back to it later\n",
    "path = os.getcwd()\n",
    "# os.chdir(os.path.join('..', '..', 'notebook_format'))\n",
    "# from formats import load_style\n",
    "# load_style(plot_style=False)"
   ]
  },
  {
   "cell_type": "code",
   "execution_count": 13,
   "metadata": {},
   "outputs": [
    {
     "name": "stdout",
     "output_type": "stream",
     "text": [
      "The watermark extension is already loaded. To reload it, use:\n",
      "  %reload_ext watermark\n",
      "Vince 2020-09-30 11:24:57 \n",
      "\n",
      "CPython 3.7.4\n",
      "IPython 7.13.0\n",
      "\n",
      "numpy 1.18.1\n",
      "scipy 1.4.1\n",
      "pandas 1.0.3\n",
      "sklearn 0.22.1\n",
      "matplotlib 3.1.3\n",
      "seaborn 0.10.1\n"
     ]
    }
   ],
   "source": [
    "os.chdir(path)\n",
    "\n",
    "# 1. magic for inline plot\n",
    "# 2. magic to print version\n",
    "# 3. magic so that the notebook will reload external python modules\n",
    "# 4. magic to enable retina (high resolution) plots\n",
    "# https://gist.github.com/minrk/3301035\n",
    "%matplotlib inline\n",
    "%load_ext watermark\n",
    "# %load_ext autoreload\n",
    "# %autoreload 2\n",
    "# %config InlineBackend.figure_format='retina'\n",
    "\n",
    "import numpy as np\n",
    "import pandas as pd\n",
    "import seaborn as sns\n",
    "import scipy.stats as stats\n",
    "import matplotlib.pyplot as plt\n",
    "from sklearn.metrics import roc_auc_score\n",
    "from sklearn.compose import ColumnTransformer\n",
    "from sklearn.preprocessing import StandardScaler\n",
    "from sklearn.linear_model import LogisticRegression\n",
    "\n",
    "%watermark -a 'Vince' -d -t -v -p numpy,scipy,pandas,sklearn,matplotlib,seaborn"
   ]
  },
  {
   "cell_type": "code",
   "execution_count": null,
   "metadata": {},
   "outputs": [],
   "source": []
  },
  {
   "cell_type": "markdown",
   "metadata": {},
   "source": [
    "\n",
    "#### Implementation\n",
    "I'll be using the [Right Heart Catheterization dataset](http://biostat.mc.vanderbilt.edu/wiki/pub/Main/DataSets/rhc.html).    \n",
    "The csv file can be downloaded from the following [link](http://biostat.mc.vanderbilt.edu/wiki/pub/Main/DataSets/rhc.csv)."
   ]
  },
  {
   "cell_type": "code",
   "execution_count": 19,
   "metadata": {},
   "outputs": [
    {
     "name": "stdout",
     "output_type": "stream",
     "text": [
      "(5735, 6)\n"
     ]
    },
    {
     "data": {
      "text/html": [
       "<div>\n",
       "<style scoped>\n",
       "    .dataframe tbody tr th:only-of-type {\n",
       "        vertical-align: middle;\n",
       "    }\n",
       "\n",
       "    .dataframe tbody tr th {\n",
       "        vertical-align: top;\n",
       "    }\n",
       "\n",
       "    .dataframe thead th {\n",
       "        text-align: right;\n",
       "    }\n",
       "</style>\n",
       "<table border=\"1\" class=\"dataframe\">\n",
       "  <thead>\n",
       "    <tr style=\"text-align: right;\">\n",
       "      <th></th>\n",
       "      <th>cat1</th>\n",
       "      <th>death</th>\n",
       "      <th>age</th>\n",
       "      <th>sex</th>\n",
       "      <th>meanbp1</th>\n",
       "      <th>swang1</th>\n",
       "    </tr>\n",
       "  </thead>\n",
       "  <tbody>\n",
       "    <tr>\n",
       "      <th>0</th>\n",
       "      <td>COPD</td>\n",
       "      <td>No</td>\n",
       "      <td>70.25098</td>\n",
       "      <td>Male</td>\n",
       "      <td>41.0</td>\n",
       "      <td>No RHC</td>\n",
       "    </tr>\n",
       "    <tr>\n",
       "      <th>1</th>\n",
       "      <td>MOSF w/Sepsis</td>\n",
       "      <td>Yes</td>\n",
       "      <td>78.17896</td>\n",
       "      <td>Female</td>\n",
       "      <td>63.0</td>\n",
       "      <td>RHC</td>\n",
       "    </tr>\n",
       "    <tr>\n",
       "      <th>2</th>\n",
       "      <td>MOSF w/Malignancy</td>\n",
       "      <td>No</td>\n",
       "      <td>46.09198</td>\n",
       "      <td>Female</td>\n",
       "      <td>57.0</td>\n",
       "      <td>RHC</td>\n",
       "    </tr>\n",
       "    <tr>\n",
       "      <th>3</th>\n",
       "      <td>ARF</td>\n",
       "      <td>Yes</td>\n",
       "      <td>75.33197</td>\n",
       "      <td>Female</td>\n",
       "      <td>55.0</td>\n",
       "      <td>No RHC</td>\n",
       "    </tr>\n",
       "    <tr>\n",
       "      <th>4</th>\n",
       "      <td>MOSF w/Sepsis</td>\n",
       "      <td>Yes</td>\n",
       "      <td>67.90997</td>\n",
       "      <td>Male</td>\n",
       "      <td>65.0</td>\n",
       "      <td>RHC</td>\n",
       "    </tr>\n",
       "  </tbody>\n",
       "</table>\n",
       "</div>"
      ],
      "text/plain": [
       "                cat1 death       age     sex  meanbp1  swang1\n",
       "0               COPD    No  70.25098    Male     41.0  No RHC\n",
       "1      MOSF w/Sepsis   Yes  78.17896  Female     63.0     RHC\n",
       "2  MOSF w/Malignancy    No  46.09198  Female     57.0     RHC\n",
       "3                ARF   Yes  75.33197  Female     55.0  No RHC\n",
       "4      MOSF w/Sepsis   Yes  67.90997    Male     65.0     RHC"
      ]
     },
     "execution_count": 19,
     "metadata": {},
     "output_type": "execute_result"
    }
   ],
   "source": [
    "# we'll only be working with a subset of the variables in the raw dataset,\n",
    "# feel free to experiment with more\n",
    "AGE = 'age'\n",
    "MEANBP1 = 'meanbp1'\n",
    "CAT1 = 'cat1'\n",
    "SEX = 'sex'\n",
    "DEATH = 'death' # outcome variable in the our raw data\n",
    "SWANG1 = 'swang1' # treatment variable in our raw data\n",
    "TREATMENT = 'treatment'\n",
    "\n",
    "num_cols = [AGE, MEANBP1]\n",
    "cat_cols = [CAT1, SEX, DEATH, SWANG1]\n",
    "\n",
    "input_path = 'rhc.csv'\n",
    "dtype = {col: 'category' for col in cat_cols}\n",
    "df = pd.read_csv(input_path, usecols=num_cols + cat_cols, dtype=dtype)\n",
    "print(df.shape)\n",
    "df.head()"
   ]
  },
  {
   "cell_type": "code",
   "execution_count": 20,
   "metadata": {},
   "outputs": [
    {
     "data": {
      "text/plain": [
       "No RHC    3551\n",
       "RHC       2184\n",
       "Name: swang1, dtype: int64"
      ]
     },
     "execution_count": 20,
     "metadata": {},
     "output_type": "execute_result"
    }
   ],
   "source": [
    "# Usually, our treatment group will be smaller than the control group.\n",
    "# replace this column with treatment yes or no\n",
    "df[SWANG1].value_counts()"
   ]
  },
  {
   "cell_type": "code",
   "execution_count": 21,
   "metadata": {},
   "outputs": [
    {
     "data": {
      "text/plain": [
       "ARF                  2490\n",
       "MOSF w/Sepsis        1227\n",
       "COPD                  457\n",
       "CHF                   456\n",
       "Coma                  436\n",
       "MOSF w/Malignancy     399\n",
       "Cirrhosis             224\n",
       "Lung Cancer            39\n",
       "Colon Cancer            7\n",
       "Name: cat1, dtype: int64"
      ]
     },
     "execution_count": 21,
     "metadata": {},
     "output_type": "execute_result"
    }
   ],
   "source": [
    "# replace these values with shorter names\n",
    "df[CAT1].value_counts()"
   ]
  },
  {
   "cell_type": "code",
   "execution_count": 22,
   "metadata": {},
   "outputs": [
    {
     "name": "stdout",
     "output_type": "stream",
     "text": [
      "{'death': {0: 'No', 1: 'Yes'}, 'swang1': {0: 'No RHC', 1: 'RHC'}, 'sex': {0: 'Female', 1: 'Male'}}\n"
     ]
    },
    {
     "data": {
      "text/html": [
       "<div>\n",
       "<style scoped>\n",
       "    .dataframe tbody tr th:only-of-type {\n",
       "        vertical-align: middle;\n",
       "    }\n",
       "\n",
       "    .dataframe tbody tr th {\n",
       "        vertical-align: top;\n",
       "    }\n",
       "\n",
       "    .dataframe thead th {\n",
       "        text-align: right;\n",
       "    }\n",
       "</style>\n",
       "<table border=\"1\" class=\"dataframe\">\n",
       "  <thead>\n",
       "    <tr style=\"text-align: right;\">\n",
       "      <th></th>\n",
       "      <th>cat1</th>\n",
       "      <th>death</th>\n",
       "      <th>age</th>\n",
       "      <th>sex</th>\n",
       "      <th>meanbp1</th>\n",
       "      <th>treatment</th>\n",
       "    </tr>\n",
       "  </thead>\n",
       "  <tbody>\n",
       "    <tr>\n",
       "      <th>0</th>\n",
       "      <td>copd</td>\n",
       "      <td>0</td>\n",
       "      <td>70.25098</td>\n",
       "      <td>1</td>\n",
       "      <td>41.0</td>\n",
       "      <td>0</td>\n",
       "    </tr>\n",
       "    <tr>\n",
       "      <th>1</th>\n",
       "      <td>mosf_sepsis</td>\n",
       "      <td>1</td>\n",
       "      <td>78.17896</td>\n",
       "      <td>0</td>\n",
       "      <td>63.0</td>\n",
       "      <td>1</td>\n",
       "    </tr>\n",
       "    <tr>\n",
       "      <th>2</th>\n",
       "      <td>mosf</td>\n",
       "      <td>0</td>\n",
       "      <td>46.09198</td>\n",
       "      <td>0</td>\n",
       "      <td>57.0</td>\n",
       "      <td>1</td>\n",
       "    </tr>\n",
       "    <tr>\n",
       "      <th>3</th>\n",
       "      <td>arf</td>\n",
       "      <td>1</td>\n",
       "      <td>75.33197</td>\n",
       "      <td>0</td>\n",
       "      <td>55.0</td>\n",
       "      <td>0</td>\n",
       "    </tr>\n",
       "    <tr>\n",
       "      <th>4</th>\n",
       "      <td>mosf_sepsis</td>\n",
       "      <td>1</td>\n",
       "      <td>67.90997</td>\n",
       "      <td>1</td>\n",
       "      <td>65.0</td>\n",
       "      <td>1</td>\n",
       "    </tr>\n",
       "  </tbody>\n",
       "</table>\n",
       "</div>"
      ],
      "text/plain": [
       "          cat1  death       age  sex  meanbp1  treatment\n",
       "0         copd      0  70.25098    1     41.0          0\n",
       "1  mosf_sepsis      1  78.17896    0     63.0          1\n",
       "2         mosf      0  46.09198    0     57.0          1\n",
       "3          arf      1  75.33197    0     55.0          0\n",
       "4  mosf_sepsis      1  67.90997    1     65.0          1"
      ]
     },
     "execution_count": 22,
     "metadata": {},
     "output_type": "execute_result"
    }
   ],
   "source": [
    "cat1_col_mapping = {\n",
    "    'ARF': 'arf',\n",
    "    'MOSF w/Sepsis': 'mosf_sepsis',\n",
    "    'COPD': 'copd',\n",
    "    'CHF': 'chf',\n",
    "    'Coma': 'coma',\n",
    "    'MOSF w/Malignancy': 'mosf',\n",
    "    'Cirrhosis': 'cirrhosis',\n",
    "    'Lung Cancer': 'lung_cancer',\n",
    "    'Colon Cancer': 'colon_cancer'\n",
    "}\n",
    "df[CAT1] = df[CAT1].replace(cat1_col_mapping)\n",
    "\n",
    "# convert features' value to numerical value, and store the\n",
    "# numerical value to the original value mapping\n",
    "col_mappings = {}\n",
    "for col in (DEATH, SWANG1, SEX):\n",
    "    col_mapping = dict(enumerate(df[col].cat.categories))\n",
    "    col_mappings[col] = col_mapping\n",
    "print(col_mappings)\n",
    "\n",
    "for col in (DEATH, SWANG1, SEX):\n",
    "    df[col] = df[col].cat.codes\n",
    "\n",
    "df = df.rename({SWANG1: TREATMENT}, axis=1)\n",
    "df.head()"
   ]
  },
  {
   "cell_type": "code",
   "execution_count": 23,
   "metadata": {},
   "outputs": [
    {
     "data": {
      "text/html": [
       "<div>\n",
       "<style scoped>\n",
       "    .dataframe tbody tr th:only-of-type {\n",
       "        vertical-align: middle;\n",
       "    }\n",
       "\n",
       "    .dataframe tbody tr th {\n",
       "        vertical-align: top;\n",
       "    }\n",
       "\n",
       "    .dataframe thead th {\n",
       "        text-align: right;\n",
       "    }\n",
       "</style>\n",
       "<table border=\"1\" class=\"dataframe\">\n",
       "  <thead>\n",
       "    <tr style=\"text-align: right;\">\n",
       "      <th></th>\n",
       "      <th>age</th>\n",
       "      <th>meanbp1</th>\n",
       "      <th>cat1_chf</th>\n",
       "      <th>cat1_cirrhosis</th>\n",
       "      <th>cat1_colon_cancer</th>\n",
       "      <th>cat1_coma</th>\n",
       "      <th>cat1_copd</th>\n",
       "      <th>cat1_lung_cancer</th>\n",
       "      <th>cat1_mosf</th>\n",
       "      <th>cat1_mosf_sepsis</th>\n",
       "      <th>sex</th>\n",
       "      <th>treatment</th>\n",
       "      <th>death</th>\n",
       "    </tr>\n",
       "  </thead>\n",
       "  <tbody>\n",
       "    <tr>\n",
       "      <th>0</th>\n",
       "      <td>70.25098</td>\n",
       "      <td>41.0</td>\n",
       "      <td>0</td>\n",
       "      <td>0</td>\n",
       "      <td>0</td>\n",
       "      <td>0</td>\n",
       "      <td>1</td>\n",
       "      <td>0</td>\n",
       "      <td>0</td>\n",
       "      <td>0</td>\n",
       "      <td>1</td>\n",
       "      <td>0</td>\n",
       "      <td>0</td>\n",
       "    </tr>\n",
       "    <tr>\n",
       "      <th>1</th>\n",
       "      <td>78.17896</td>\n",
       "      <td>63.0</td>\n",
       "      <td>0</td>\n",
       "      <td>0</td>\n",
       "      <td>0</td>\n",
       "      <td>0</td>\n",
       "      <td>0</td>\n",
       "      <td>0</td>\n",
       "      <td>0</td>\n",
       "      <td>1</td>\n",
       "      <td>0</td>\n",
       "      <td>1</td>\n",
       "      <td>1</td>\n",
       "    </tr>\n",
       "    <tr>\n",
       "      <th>2</th>\n",
       "      <td>46.09198</td>\n",
       "      <td>57.0</td>\n",
       "      <td>0</td>\n",
       "      <td>0</td>\n",
       "      <td>0</td>\n",
       "      <td>0</td>\n",
       "      <td>0</td>\n",
       "      <td>0</td>\n",
       "      <td>1</td>\n",
       "      <td>0</td>\n",
       "      <td>0</td>\n",
       "      <td>1</td>\n",
       "      <td>0</td>\n",
       "    </tr>\n",
       "    <tr>\n",
       "      <th>3</th>\n",
       "      <td>75.33197</td>\n",
       "      <td>55.0</td>\n",
       "      <td>0</td>\n",
       "      <td>0</td>\n",
       "      <td>0</td>\n",
       "      <td>0</td>\n",
       "      <td>0</td>\n",
       "      <td>0</td>\n",
       "      <td>0</td>\n",
       "      <td>0</td>\n",
       "      <td>0</td>\n",
       "      <td>0</td>\n",
       "      <td>1</td>\n",
       "    </tr>\n",
       "    <tr>\n",
       "      <th>4</th>\n",
       "      <td>67.90997</td>\n",
       "      <td>65.0</td>\n",
       "      <td>0</td>\n",
       "      <td>0</td>\n",
       "      <td>0</td>\n",
       "      <td>0</td>\n",
       "      <td>0</td>\n",
       "      <td>0</td>\n",
       "      <td>0</td>\n",
       "      <td>1</td>\n",
       "      <td>1</td>\n",
       "      <td>1</td>\n",
       "      <td>1</td>\n",
       "    </tr>\n",
       "  </tbody>\n",
       "</table>\n",
       "</div>"
      ],
      "text/plain": [
       "        age  meanbp1  cat1_chf  cat1_cirrhosis  cat1_colon_cancer  cat1_coma  \\\n",
       "0  70.25098     41.0         0               0                  0          0   \n",
       "1  78.17896     63.0         0               0                  0          0   \n",
       "2  46.09198     57.0         0               0                  0          0   \n",
       "3  75.33197     55.0         0               0                  0          0   \n",
       "4  67.90997     65.0         0               0                  0          0   \n",
       "\n",
       "   cat1_copd  cat1_lung_cancer  cat1_mosf  cat1_mosf_sepsis  sex  treatment  \\\n",
       "0          1                 0          0                 0    1          0   \n",
       "1          0                 0          0                 1    0          1   \n",
       "2          0                 0          1                 0    0          1   \n",
       "3          0                 0          0                 0    0          0   \n",
       "4          0                 0          0                 1    1          1   \n",
       "\n",
       "   death  \n",
       "0      0  \n",
       "1      1  \n",
       "2      0  \n",
       "3      1  \n",
       "4      1  "
      ]
     },
     "execution_count": 23,
     "metadata": {},
     "output_type": "execute_result"
    }
   ],
   "source": [
    "cat_cols = [CAT1]\n",
    "df_one_hot = pd.get_dummies(df[cat_cols], drop_first=True)\n",
    "df_cleaned = pd.concat([df[num_cols], df_one_hot, df[[SEX, TREATMENT, DEATH]]], axis=1)\n",
    "df_cleaned.head()"
   ]
  },
  {
   "cell_type": "markdown",
   "metadata": {},
   "source": [
    "Given all of these covariates and our column **treatment** that indicates whether the subject received the treatment or control, we wish to have a quantitative way of measuring whether our covariates are balanced between the two groups.\n",
    "\n",
    "To assess whether balance has been achieved, we can look at standardized mean differences (smd), which is calculated by the difference in the means between the two groups divided by the pooled standard deviation."
   ]
  },
  {
   "cell_type": "code",
   "execution_count": 24,
   "metadata": {},
   "outputs": [
    {
     "data": {
      "text/html": [
       "<div>\n",
       "<style scoped>\n",
       "    .dataframe tbody tr th:only-of-type {\n",
       "        vertical-align: middle;\n",
       "    }\n",
       "\n",
       "    .dataframe tbody tr th {\n",
       "        vertical-align: top;\n",
       "    }\n",
       "\n",
       "    .dataframe thead tr th {\n",
       "        text-align: left;\n",
       "    }\n",
       "\n",
       "    .dataframe thead tr:last-of-type th {\n",
       "        text-align: right;\n",
       "    }\n",
       "</style>\n",
       "<table border=\"1\" class=\"dataframe\">\n",
       "  <thead>\n",
       "    <tr>\n",
       "      <th></th>\n",
       "      <th>treatment</th>\n",
       "      <th colspan=\"2\" halign=\"left\">age</th>\n",
       "      <th colspan=\"2\" halign=\"left\">meanbp1</th>\n",
       "      <th colspan=\"2\" halign=\"left\">cat1_chf</th>\n",
       "      <th colspan=\"2\" halign=\"left\">cat1_cirrhosis</th>\n",
       "      <th>cat1_colon_cancer</th>\n",
       "      <th>...</th>\n",
       "      <th colspan=\"2\" halign=\"left\">cat1_copd</th>\n",
       "      <th colspan=\"2\" halign=\"left\">cat1_lung_cancer</th>\n",
       "      <th colspan=\"2\" halign=\"left\">cat1_mosf</th>\n",
       "      <th colspan=\"2\" halign=\"left\">cat1_mosf_sepsis</th>\n",
       "      <th colspan=\"2\" halign=\"left\">sex</th>\n",
       "    </tr>\n",
       "    <tr>\n",
       "      <th></th>\n",
       "      <th>count</th>\n",
       "      <th>mean</th>\n",
       "      <th>std</th>\n",
       "      <th>mean</th>\n",
       "      <th>std</th>\n",
       "      <th>mean</th>\n",
       "      <th>std</th>\n",
       "      <th>mean</th>\n",
       "      <th>std</th>\n",
       "      <th>mean</th>\n",
       "      <th>...</th>\n",
       "      <th>mean</th>\n",
       "      <th>std</th>\n",
       "      <th>mean</th>\n",
       "      <th>std</th>\n",
       "      <th>mean</th>\n",
       "      <th>std</th>\n",
       "      <th>mean</th>\n",
       "      <th>std</th>\n",
       "      <th>mean</th>\n",
       "      <th>std</th>\n",
       "    </tr>\n",
       "    <tr>\n",
       "      <th>treatment</th>\n",
       "      <th></th>\n",
       "      <th></th>\n",
       "      <th></th>\n",
       "      <th></th>\n",
       "      <th></th>\n",
       "      <th></th>\n",
       "      <th></th>\n",
       "      <th></th>\n",
       "      <th></th>\n",
       "      <th></th>\n",
       "      <th></th>\n",
       "      <th></th>\n",
       "      <th></th>\n",
       "      <th></th>\n",
       "      <th></th>\n",
       "      <th></th>\n",
       "      <th></th>\n",
       "      <th></th>\n",
       "      <th></th>\n",
       "      <th></th>\n",
       "      <th></th>\n",
       "    </tr>\n",
       "  </thead>\n",
       "  <tbody>\n",
       "    <tr>\n",
       "      <th>0</th>\n",
       "      <td>3551</td>\n",
       "      <td>61.760926</td>\n",
       "      <td>17.287674</td>\n",
       "      <td>84.868629</td>\n",
       "      <td>38.874134</td>\n",
       "      <td>0.069558</td>\n",
       "      <td>0.254436</td>\n",
       "      <td>0.049282</td>\n",
       "      <td>0.216486</td>\n",
       "      <td>0.001690</td>\n",
       "      <td>...</td>\n",
       "      <td>0.112363</td>\n",
       "      <td>0.315857</td>\n",
       "      <td>0.009575</td>\n",
       "      <td>0.097395</td>\n",
       "      <td>0.067868</td>\n",
       "      <td>0.251555</td>\n",
       "      <td>0.148409</td>\n",
       "      <td>0.355555</td>\n",
       "      <td>0.539003</td>\n",
       "      <td>0.498547</td>\n",
       "    </tr>\n",
       "    <tr>\n",
       "      <th>1</th>\n",
       "      <td>2184</td>\n",
       "      <td>60.749836</td>\n",
       "      <td>15.630698</td>\n",
       "      <td>68.197802</td>\n",
       "      <td>34.242209</td>\n",
       "      <td>0.095696</td>\n",
       "      <td>0.294241</td>\n",
       "      <td>0.022436</td>\n",
       "      <td>0.148130</td>\n",
       "      <td>0.000458</td>\n",
       "      <td>...</td>\n",
       "      <td>0.026557</td>\n",
       "      <td>0.160821</td>\n",
       "      <td>0.002289</td>\n",
       "      <td>0.047804</td>\n",
       "      <td>0.072344</td>\n",
       "      <td>0.259117</td>\n",
       "      <td>0.320513</td>\n",
       "      <td>0.466781</td>\n",
       "      <td>0.585165</td>\n",
       "      <td>0.492806</td>\n",
       "    </tr>\n",
       "  </tbody>\n",
       "</table>\n",
       "<p>2 rows × 23 columns</p>\n",
       "</div>"
      ],
      "text/plain": [
       "          treatment        age               meanbp1             cat1_chf  \\\n",
       "              count       mean        std       mean        std      mean   \n",
       "treatment                                                                   \n",
       "0              3551  61.760926  17.287674  84.868629  38.874134  0.069558   \n",
       "1              2184  60.749836  15.630698  68.197802  34.242209  0.095696   \n",
       "\n",
       "                    cat1_cirrhosis           cat1_colon_cancer  ... cat1_copd  \\\n",
       "                std           mean       std              mean  ...      mean   \n",
       "treatment                                                       ...             \n",
       "0          0.254436       0.049282  0.216486          0.001690  ...  0.112363   \n",
       "1          0.294241       0.022436  0.148130          0.000458  ...  0.026557   \n",
       "\n",
       "                    cat1_lung_cancer           cat1_mosf            \\\n",
       "                std             mean       std      mean       std   \n",
       "treatment                                                            \n",
       "0          0.315857         0.009575  0.097395  0.067868  0.251555   \n",
       "1          0.160821         0.002289  0.047804  0.072344  0.259117   \n",
       "\n",
       "          cat1_mosf_sepsis                 sex            \n",
       "                      mean       std      mean       std  \n",
       "treatment                                                 \n",
       "0                 0.148409  0.355555  0.539003  0.498547  \n",
       "1                 0.320513  0.466781  0.585165  0.492806  \n",
       "\n",
       "[2 rows x 23 columns]"
      ]
     },
     "execution_count": 24,
     "metadata": {},
     "output_type": "execute_result"
    }
   ],
   "source": [
    "features = df_cleaned.columns.tolist()\n",
    "features.remove(TREATMENT)\n",
    "features.remove(DEATH)\n",
    "agg_operations = {TREATMENT: 'count'}\n",
    "agg_operations.update({\n",
    "    feature: ['mean', 'std'] for feature in features\n",
    "})\n",
    "\n",
    "table_one = df_cleaned.groupby(TREATMENT).agg(agg_operations)\n",
    "# merge MultiIndex columns together into 1 level\n",
    "# table_one.columns = ['_'.join(col) for col in table_one.columns.values]\n",
    "table_one.head()"
   ]
  },
  {
   "cell_type": "code",
   "execution_count": 25,
   "metadata": {},
   "outputs": [
    {
     "data": {
      "text/html": [
       "<div>\n",
       "<style scoped>\n",
       "    .dataframe tbody tr th:only-of-type {\n",
       "        vertical-align: middle;\n",
       "    }\n",
       "\n",
       "    .dataframe tbody tr th {\n",
       "        vertical-align: top;\n",
       "    }\n",
       "\n",
       "    .dataframe thead th {\n",
       "        text-align: right;\n",
       "    }\n",
       "</style>\n",
       "<table border=\"1\" class=\"dataframe\">\n",
       "  <thead>\n",
       "    <tr style=\"text-align: right;\">\n",
       "      <th></th>\n",
       "      <th>features</th>\n",
       "      <th>smd</th>\n",
       "    </tr>\n",
       "  </thead>\n",
       "  <tbody>\n",
       "    <tr>\n",
       "      <th>0</th>\n",
       "      <td>age</td>\n",
       "      <td>0.0614</td>\n",
       "    </tr>\n",
       "    <tr>\n",
       "      <th>1</th>\n",
       "      <td>meanbp1</td>\n",
       "      <td>0.4551</td>\n",
       "    </tr>\n",
       "    <tr>\n",
       "      <th>2</th>\n",
       "      <td>cat1_chf</td>\n",
       "      <td>0.0950</td>\n",
       "    </tr>\n",
       "    <tr>\n",
       "      <th>3</th>\n",
       "      <td>cat1_cirrhosis</td>\n",
       "      <td>0.1447</td>\n",
       "    </tr>\n",
       "    <tr>\n",
       "      <th>4</th>\n",
       "      <td>cat1_colon_cancer</td>\n",
       "      <td>0.0376</td>\n",
       "    </tr>\n",
       "    <tr>\n",
       "      <th>5</th>\n",
       "      <td>cat1_coma</td>\n",
       "      <td>0.2073</td>\n",
       "    </tr>\n",
       "    <tr>\n",
       "      <th>6</th>\n",
       "      <td>cat1_copd</td>\n",
       "      <td>0.3424</td>\n",
       "    </tr>\n",
       "    <tr>\n",
       "      <th>7</th>\n",
       "      <td>cat1_lung_cancer</td>\n",
       "      <td>0.0950</td>\n",
       "    </tr>\n",
       "    <tr>\n",
       "      <th>8</th>\n",
       "      <td>cat1_mosf</td>\n",
       "      <td>0.0175</td>\n",
       "    </tr>\n",
       "    <tr>\n",
       "      <th>9</th>\n",
       "      <td>cat1_mosf_sepsis</td>\n",
       "      <td>0.4148</td>\n",
       "    </tr>\n",
       "    <tr>\n",
       "      <th>10</th>\n",
       "      <td>sex</td>\n",
       "      <td>0.0931</td>\n",
       "    </tr>\n",
       "  </tbody>\n",
       "</table>\n",
       "</div>"
      ],
      "text/plain": [
       "             features     smd\n",
       "0                 age  0.0614\n",
       "1             meanbp1  0.4551\n",
       "2            cat1_chf  0.0950\n",
       "3      cat1_cirrhosis  0.1447\n",
       "4   cat1_colon_cancer  0.0376\n",
       "5           cat1_coma  0.2073\n",
       "6           cat1_copd  0.3424\n",
       "7    cat1_lung_cancer  0.0950\n",
       "8           cat1_mosf  0.0175\n",
       "9    cat1_mosf_sepsis  0.4148\n",
       "10                sex  0.0931"
      ]
     },
     "execution_count": 25,
     "metadata": {},
     "output_type": "execute_result"
    }
   ],
   "source": [
    "def compute_table_one_smd(table_one: pd.DataFrame, round_digits: int=4) -> pd.DataFrame:\n",
    "    feature_smds = []\n",
    "    for feature in features:\n",
    "        feature_table_one = table_one[feature].values\n",
    "        neg_mean = feature_table_one[0, 0]\n",
    "        neg_std = feature_table_one[0, 1]\n",
    "        pos_mean = feature_table_one[1, 0]\n",
    "        pos_std = feature_table_one[1, 1]\n",
    "\n",
    "        smd = (pos_mean - neg_mean) / np.sqrt((pos_std ** 2 + neg_std ** 2) / 2)\n",
    "        smd = round(abs(smd), round_digits)\n",
    "        feature_smds.append(smd)\n",
    "\n",
    "    return pd.DataFrame({'features': features, 'smd': feature_smds})\n",
    "\n",
    "\n",
    "table_one_smd = compute_table_one_smd(table_one)\n",
    "table_one_smd"
   ]
  },
  {
   "cell_type": "code",
   "execution_count": 26,
   "metadata": {},
   "outputs": [
    {
     "data": {
      "text/plain": [
       "(5735, 11)"
      ]
     },
     "execution_count": 26,
     "metadata": {},
     "output_type": "execute_result"
    }
   ],
   "source": [
    "# The next few code chunk will actually fit the propensity score.\n",
    "# treatment will be our label for estimating the propensity score,\n",
    "# and death is the outcome that we care about, thus is also removed\n",
    "# from the step that is estimating the propensity score\n",
    "death = df_cleaned[DEATH]\n",
    "treatment = df_cleaned[TREATMENT]\n",
    "df_cleaned = df_cleaned.drop([DEATH, TREATMENT], axis=1)\n",
    "\n",
    "column_transformer = ColumnTransformer(\n",
    "    [('numerical', StandardScaler(), num_cols)],\n",
    "    sparse_threshold=0,\n",
    "    remainder='passthrough'\n",
    ")\n",
    "data = column_transformer.fit_transform(df_cleaned)\n",
    "data.shape"
   ]
  },
  {
   "cell_type": "code",
   "execution_count": 27,
   "metadata": {},
   "outputs": [
    {
     "data": {
      "text/plain": [
       "LogisticRegression(C=1.0, class_weight=None, dual=False, fit_intercept=True,\n",
       "                   intercept_scaling=1, l1_ratio=None, max_iter=100,\n",
       "                   multi_class='auto', n_jobs=None, penalty='l2',\n",
       "                   random_state=None, solver='liblinear', tol=0.0001, verbose=0,\n",
       "                   warm_start=False)"
      ]
     },
     "execution_count": 27,
     "metadata": {},
     "output_type": "execute_result"
    }
   ],
   "source": [
    "logistic = LogisticRegression(solver='liblinear')\n",
    "logistic.fit(data, treatment)"
   ]
  },
  {
   "cell_type": "code",
   "execution_count": 28,
   "metadata": {},
   "outputs": [
    {
     "data": {
      "text/plain": [
       "array([0.2015413 , 0.55090913, 0.40984636, ..., 0.17665099, 0.18749954,\n",
       "       0.2204119 ])"
      ]
     },
     "execution_count": 28,
     "metadata": {},
     "output_type": "execute_result"
    }
   ],
   "source": [
    "pscore = logistic.predict_proba(data)[:, 1]\n",
    "pscore"
   ]
  },
  {
   "cell_type": "code",
   "execution_count": 29,
   "metadata": {},
   "outputs": [
    {
     "data": {
      "text/plain": [
       "0.6903390599356525"
      ]
     },
     "execution_count": 29,
     "metadata": {},
     "output_type": "execute_result"
    }
   ],
   "source": [
    "roc_auc_score(treatment, pscore)"
   ]
  },
  {
   "cell_type": "markdown",
   "metadata": {},
   "source": [
    "We won't be spending too much time tweaking the model here, checking some evaluation metric of the model serves as a quick sanity check.\n",
    "\n",
    "Once the propensity score is estimated, it is useful to look for overlap before jumping straight to the matching process. By overlap, we are referring to compare the distribution of the propensity score for the subjects in the control and treatment group."
   ]
  },
  {
   "cell_type": "code",
   "execution_count": 30,
   "metadata": {},
   "outputs": [
    {
     "name": "stdout",
     "output_type": "stream",
     "text": [
      "treatment count: (2184,)\n",
      "control count: (3551,)\n"
     ]
    }
   ],
   "source": [
    "mask = treatment == 1\n",
    "pos_pscore = pscore[mask]\n",
    "neg_pscore = pscore[~mask]\n",
    "print('treatment count:', pos_pscore.shape)\n",
    "print('control count:', neg_pscore.shape)"
   ]
  },
  {
   "cell_type": "markdown",
   "metadata": {},
   "source": [
    "Looking at the plot below, we can see that our features,  X , does in fact contain information about the user receiving treatment. The distributional difference between the propensity scores for the two group justifies the need for matching, since they are not directly comparable otherwise.\n",
    "\n",
    "Although, there's a distributional difference in the density plot, but in this case, what we see is that there's overlap everywhere, so this is actually the kind of plot we would like to see if we're going to do propensity score matching. What we mean by overlap is that no matter where we look on the plot, even though there might be more control than treatment or vice versa, there will still be some subject from either group. The notion of overlap means that our positivity assumption is probably reasonable. Remember positivity refers to the situation where all of the subjects in the study have at least some chance of receiving either treatment. And that appears to be the case here, hence this would be a situation where we would feel comfortable to proceed with our propensity score matching."
   ]
  },
  {
   "cell_type": "code",
   "execution_count": 32,
   "metadata": {},
   "outputs": [
    {
     "data": {
      "image/png": "[encoded data removed]",
      "text/plain": [
       "<Figure size 576x432 with 1 Axes>"
      ]
     },
     "metadata": {
      "needs_background": "light"
     },
     "output_type": "display_data"
    }
   ],
   "source": [
    "# change default style figure and font size\n",
    "plt.rcParams['figure.figsize'] = 8, 6\n",
    "plt.rcParams['font.size'] = 12\n",
    "\n",
    "sns.distplot(neg_pscore, label='control')\n",
    "sns.distplot(pos_pscore, label='treatment')\n",
    "plt.xlim(0, 1)\n",
    "plt.title('Propensity Score Distribution of Control vs Treatment')\n",
    "plt.ylabel('Density')\n",
    "plt.xlabel('Scores')\n",
    "plt.legend()\n",
    "plt.tight_layout()\n",
    "plt.show()"
   ]
  },
  {
   "cell_type": "markdown",
   "metadata": {},
   "source": [
    "Keep in mind that not every plot will look like this, if there's major lack of overlap in some part of the propensity score distribution plot that means our positivity assumption would essentially be violated. Or in other words, we can't really estimate a causal effect in those area of the distribution since in those areas, those are subjects that have close to zero chance of being in the control/treatment group. One thing that we may wish to do when encountered with this scenario is either look and see if we're missing some covariates or get rid of individuals who have extreme propensity scores and focus on the areas where there are strong overlapping."
   ]
  },
  {
   "cell_type": "code",
   "execution_count": 33,
   "metadata": {},
   "outputs": [
    {
     "data": {
      "text/plain": [
       "array([[1703],\n",
       "       [1329],\n",
       "       [2782],\n",
       "       ...,\n",
       "       [1728],\n",
       "       [1909],\n",
       "       [2546]], dtype=int64)"
      ]
     },
     "execution_count": 33,
     "metadata": {},
     "output_type": "execute_result"
    }
   ],
   "source": [
    "def get_similar(pos_pscore: np.ndarray, neg_pscore: np.ndarray, topn: int=5, n_jobs: int=1):\n",
    "    from sklearn.neighbors import NearestNeighbors\n",
    "\n",
    "    knn = NearestNeighbors(n_neighbors=topn + 1, metric='euclidean', n_jobs=n_jobs)\n",
    "    knn.fit(neg_pscore.reshape(-1, 1))\n",
    "\n",
    "    distances, indices = knn.kneighbors(pos_pscore.reshape(-1, 1))\n",
    "    sim_distances = distances[:, 1:]\n",
    "    sim_indices = indices[:, 1:]\n",
    "    return sim_distances, sim_indices\n",
    "\n",
    "\n",
    "sim_distances, sim_indices = get_similar(pos_pscore, neg_pscore, topn=1)\n",
    "sim_indices"
   ]
  },
  {
   "cell_type": "code",
   "execution_count": 34,
   "metadata": {},
   "outputs": [
    {
     "data": {
      "text/plain": [
       "array([  0, 810, 309, 121,  47,  12,   6,   7,   3,   4], dtype=int64)"
      ]
     },
     "execution_count": 34,
     "metadata": {},
     "output_type": "execute_result"
    }
   ],
   "source": [
    "# We can still check the number of occurrences for the matched control record. As mentioned in the previous section, we can add these information as weights to our dataset, but we won't be doing that here.\n",
    "\n",
    "_, counts = np.unique(sim_indices[:, 0], return_counts=True)\n",
    "np.bincount(counts)"
   ]
  },
  {
   "cell_type": "code",
   "execution_count": 35,
   "metadata": {},
   "outputs": [
    {
     "data": {
      "text/html": [
       "<div>\n",
       "<style scoped>\n",
       "    .dataframe tbody tr th:only-of-type {\n",
       "        vertical-align: middle;\n",
       "    }\n",
       "\n",
       "    .dataframe tbody tr th {\n",
       "        vertical-align: top;\n",
       "    }\n",
       "\n",
       "    .dataframe thead th {\n",
       "        text-align: right;\n",
       "    }\n",
       "</style>\n",
       "<table border=\"1\" class=\"dataframe\">\n",
       "  <thead>\n",
       "    <tr style=\"text-align: right;\">\n",
       "      <th></th>\n",
       "      <th>age</th>\n",
       "      <th>meanbp1</th>\n",
       "      <th>cat1_chf</th>\n",
       "      <th>cat1_cirrhosis</th>\n",
       "      <th>cat1_colon_cancer</th>\n",
       "      <th>cat1_coma</th>\n",
       "      <th>cat1_copd</th>\n",
       "      <th>cat1_lung_cancer</th>\n",
       "      <th>cat1_mosf</th>\n",
       "      <th>cat1_mosf_sepsis</th>\n",
       "      <th>sex</th>\n",
       "      <th>treatment</th>\n",
       "      <th>death</th>\n",
       "    </tr>\n",
       "  </thead>\n",
       "  <tbody>\n",
       "    <tr>\n",
       "      <th>1</th>\n",
       "      <td>78.17896</td>\n",
       "      <td>63.0</td>\n",
       "      <td>0</td>\n",
       "      <td>0</td>\n",
       "      <td>0</td>\n",
       "      <td>0</td>\n",
       "      <td>0</td>\n",
       "      <td>0</td>\n",
       "      <td>0</td>\n",
       "      <td>1</td>\n",
       "      <td>0</td>\n",
       "      <td>1</td>\n",
       "      <td>1</td>\n",
       "    </tr>\n",
       "    <tr>\n",
       "      <th>2</th>\n",
       "      <td>46.09198</td>\n",
       "      <td>57.0</td>\n",
       "      <td>0</td>\n",
       "      <td>0</td>\n",
       "      <td>0</td>\n",
       "      <td>0</td>\n",
       "      <td>0</td>\n",
       "      <td>0</td>\n",
       "      <td>1</td>\n",
       "      <td>0</td>\n",
       "      <td>0</td>\n",
       "      <td>1</td>\n",
       "      <td>0</td>\n",
       "    </tr>\n",
       "    <tr>\n",
       "      <th>4</th>\n",
       "      <td>67.90997</td>\n",
       "      <td>65.0</td>\n",
       "      <td>0</td>\n",
       "      <td>0</td>\n",
       "      <td>0</td>\n",
       "      <td>0</td>\n",
       "      <td>0</td>\n",
       "      <td>0</td>\n",
       "      <td>0</td>\n",
       "      <td>1</td>\n",
       "      <td>1</td>\n",
       "      <td>1</td>\n",
       "      <td>1</td>\n",
       "    </tr>\n",
       "    <tr>\n",
       "      <th>9</th>\n",
       "      <td>48.42398</td>\n",
       "      <td>73.0</td>\n",
       "      <td>0</td>\n",
       "      <td>0</td>\n",
       "      <td>0</td>\n",
       "      <td>0</td>\n",
       "      <td>0</td>\n",
       "      <td>0</td>\n",
       "      <td>0</td>\n",
       "      <td>0</td>\n",
       "      <td>0</td>\n",
       "      <td>1</td>\n",
       "      <td>0</td>\n",
       "    </tr>\n",
       "    <tr>\n",
       "      <th>11</th>\n",
       "      <td>68.34796</td>\n",
       "      <td>50.0</td>\n",
       "      <td>0</td>\n",
       "      <td>0</td>\n",
       "      <td>0</td>\n",
       "      <td>0</td>\n",
       "      <td>0</td>\n",
       "      <td>0</td>\n",
       "      <td>0</td>\n",
       "      <td>0</td>\n",
       "      <td>1</td>\n",
       "      <td>1</td>\n",
       "      <td>0</td>\n",
       "    </tr>\n",
       "  </tbody>\n",
       "</table>\n",
       "</div>"
      ],
      "text/plain": [
       "         age  meanbp1  cat1_chf  cat1_cirrhosis  cat1_colon_cancer  cat1_coma  \\\n",
       "1   78.17896     63.0         0               0                  0          0   \n",
       "2   46.09198     57.0         0               0                  0          0   \n",
       "4   67.90997     65.0         0               0                  0          0   \n",
       "9   48.42398     73.0         0               0                  0          0   \n",
       "11  68.34796     50.0         0               0                  0          0   \n",
       "\n",
       "    cat1_copd  cat1_lung_cancer  cat1_mosf  cat1_mosf_sepsis  sex  treatment  \\\n",
       "1           0                 0          0                 1    0          1   \n",
       "2           0                 0          1                 0    0          1   \n",
       "4           0                 0          0                 1    1          1   \n",
       "9           0                 0          0                 0    0          1   \n",
       "11          0                 0          0                 0    1          1   \n",
       "\n",
       "    death  \n",
       "1       1  \n",
       "2       0  \n",
       "4       1  \n",
       "9       0  \n",
       "11      0  "
      ]
     },
     "execution_count": 35,
     "metadata": {},
     "output_type": "execute_result"
    }
   ],
   "source": [
    "# After applying the matching procedure, it's important to check and validate that the matched dataset are indeed indistinguishable in terms of the covariates that we were using to balance the control and treatment group.\n",
    "\n",
    "df_cleaned[TREATMENT] = treatment\n",
    "df_cleaned[DEATH] = death\n",
    "df_pos = df_cleaned[mask]\n",
    "df_neg = df_cleaned[~mask].iloc[sim_indices[:, 0]]\n",
    "df_matched = pd.concat([df_pos, df_neg], axis=0)\n",
    "df_matched.head()"
   ]
  },
  {
   "cell_type": "code",
   "execution_count": 36,
   "metadata": {},
   "outputs": [
    {
     "data": {
      "text/html": [
       "<div>\n",
       "<style scoped>\n",
       "    .dataframe tbody tr th:only-of-type {\n",
       "        vertical-align: middle;\n",
       "    }\n",
       "\n",
       "    .dataframe tbody tr th {\n",
       "        vertical-align: top;\n",
       "    }\n",
       "\n",
       "    .dataframe thead th {\n",
       "        text-align: right;\n",
       "    }\n",
       "</style>\n",
       "<table border=\"1\" class=\"dataframe\">\n",
       "  <thead>\n",
       "    <tr style=\"text-align: right;\">\n",
       "      <th></th>\n",
       "      <th>features</th>\n",
       "      <th>smd</th>\n",
       "    </tr>\n",
       "  </thead>\n",
       "  <tbody>\n",
       "    <tr>\n",
       "      <th>0</th>\n",
       "      <td>age</td>\n",
       "      <td>0.0160</td>\n",
       "    </tr>\n",
       "    <tr>\n",
       "      <th>1</th>\n",
       "      <td>meanbp1</td>\n",
       "      <td>0.0072</td>\n",
       "    </tr>\n",
       "    <tr>\n",
       "      <th>2</th>\n",
       "      <td>cat1_chf</td>\n",
       "      <td>0.0184</td>\n",
       "    </tr>\n",
       "    <tr>\n",
       "      <th>3</th>\n",
       "      <td>cat1_cirrhosis</td>\n",
       "      <td>0.0091</td>\n",
       "    </tr>\n",
       "    <tr>\n",
       "      <th>4</th>\n",
       "      <td>cat1_colon_cancer</td>\n",
       "      <td>0.0707</td>\n",
       "    </tr>\n",
       "    <tr>\n",
       "      <th>5</th>\n",
       "      <td>cat1_coma</td>\n",
       "      <td>0.0091</td>\n",
       "    </tr>\n",
       "    <tr>\n",
       "      <th>6</th>\n",
       "      <td>cat1_copd</td>\n",
       "      <td>0.0557</td>\n",
       "    </tr>\n",
       "    <tr>\n",
       "      <th>7</th>\n",
       "      <td>cat1_lung_cancer</td>\n",
       "      <td>0.0626</td>\n",
       "    </tr>\n",
       "    <tr>\n",
       "      <th>8</th>\n",
       "      <td>cat1_mosf</td>\n",
       "      <td>0.0035</td>\n",
       "    </tr>\n",
       "    <tr>\n",
       "      <th>9</th>\n",
       "      <td>cat1_mosf_sepsis</td>\n",
       "      <td>0.0039</td>\n",
       "    </tr>\n",
       "    <tr>\n",
       "      <th>10</th>\n",
       "      <td>sex</td>\n",
       "      <td>0.0324</td>\n",
       "    </tr>\n",
       "  </tbody>\n",
       "</table>\n",
       "</div>"
      ],
      "text/plain": [
       "             features     smd\n",
       "0                 age  0.0160\n",
       "1             meanbp1  0.0072\n",
       "2            cat1_chf  0.0184\n",
       "3      cat1_cirrhosis  0.0091\n",
       "4   cat1_colon_cancer  0.0707\n",
       "5           cat1_coma  0.0091\n",
       "6           cat1_copd  0.0557\n",
       "7    cat1_lung_cancer  0.0626\n",
       "8           cat1_mosf  0.0035\n",
       "9    cat1_mosf_sepsis  0.0039\n",
       "10                sex  0.0324"
      ]
     },
     "execution_count": 36,
     "metadata": {},
     "output_type": "execute_result"
    }
   ],
   "source": [
    "table_one_matched = df_matched.groupby(TREATMENT).agg(agg_operations)\n",
    "table_one_smd_matched = compute_table_one_smd(table_one_matched)\n",
    "table_one_smd_matched"
   ]
  },
  {
   "cell_type": "code",
   "execution_count": 37,
   "metadata": {},
   "outputs": [
    {
     "name": "stdout",
     "output_type": "stream",
     "text": [
      "number of matched pairs:  2184\n"
     ]
    },
    {
     "data": {
      "text/plain": [
       "Ttest_relResult(statistic=2.98993204105555, pvalue=0.0028215776367738962)"
      ]
     },
     "execution_count": 37,
     "metadata": {},
     "output_type": "execute_result"
    }
   ],
   "source": [
    "# Upon completing propensity score matching and verified that our covariates are now fairly balanced using standardized mean difference (smd), we can carry out a outcome analysis using a paired t-test. For all the various knobs that we've described when introducing the matching process, we can experiment with various options and see if our conclusions change.\n",
    "\n",
    "num_matched_pairs = df_neg.shape[0]\n",
    "print('number of matched pairs: ', num_matched_pairs)\n",
    "\n",
    "# pair t-test\n",
    "stats.ttest_rel(df_pos[DEATH].values, df_neg[DEATH].values)"
   ]
  },
  {
   "cell_type": "markdown",
   "metadata": {},
   "source": [
    "#### This result tells us after using matching adjustment to ensure comparability between the treatment and control group, we find that receiving Right Heart Catheterization does have an effect on a patient's change of dying."
   ]
  },
  {
   "cell_type": "markdown",
   "metadata": {},
   "source": [
    "## Reference"
   ]
  },
  {
   "cell_type": "markdown",
   "metadata": {},
   "source": [
    "- [Blog: Comparative Statistics in Python using SciPy](http://benalexkeen.com/comparative-statistics-in-python-using-scipy/)   \n",
    "- [Cousera: A Crash Course in Causality - Inferring Causal Effects from Observational Data](https://www.coursera.org/learn/crash-course-in-causality)   \n",
    "- [Github: pymatch - Matching techniques for observational studies](https://github.com/benmiroglio/pymatch)   \n",
    "- [Paper: B. Miroglio, D. Zeber, J. Kaye, R. Weiss - The Effect of Ad Blocking on User Engagement with the Web (2018)](https://dl.acm.org/doi/10.1145/3178876.3186162)   \n",
    "- [The Effect of Ad Blocking on User Engagement with the Web](https://github.com/ethen8181/machine-learning/tree/master/ab_tests/causal_inference)\n",
    "- [Introducing the pymatch Python Package](https://medium.com/@bmiroglio/introducing-the-pymatch-package-6a8c020e2009)"
   ]
  },
  {
   "cell_type": "code",
   "execution_count": null,
   "metadata": {},
   "outputs": [],
   "source": []
  }
 ],
 "metadata": {
  "kernelspec": {
   "display_name": "Python 3",
   "language": "python",
   "name": "python3"
  },
  "language_info": {
   "codemirror_mode": {
    "name": "ipython",
    "version": 3
   },
   "file_extension": ".py",
   "mimetype": "text/x-python",
   "name": "python",
   "nbconvert_exporter": "python",
   "pygments_lexer": "ipython3",
   "version": "3.7.4"
  }
 },
 "nbformat": 4,
 "nbformat_minor": 4
}
