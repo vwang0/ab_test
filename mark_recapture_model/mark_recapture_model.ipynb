{
 "cells": [
  {
   "cell_type": "markdown",
   "metadata": {},
   "source": [
    "\n",
    "I will implement three Bayesian capture-recapture models:   \n",
    "\n",
    "the **Lincoln-Petersen model of abundance**, \n",
    "\n",
    "the **Cormack-Jolly-Seber model of survival**, and   \n",
    "\n",
    "the **Jolly-Seber model of abundance and survival**."
   ]
  },
  {
   "cell_type": "code",
   "execution_count": null,
   "metadata": {},
   "outputs": [],
   "source": []
  },
  {
   "cell_type": "code",
   "execution_count": 4,
   "metadata": {},
   "outputs": [],
   "source": [
    "from matplotlib import pyplot as plt\n",
    "from matplotlib.ticker import StrMethodFormatter\n",
    "import numpy as np\n",
    "import pymc3 as pm\n",
    "from pymc3.distributions.dist_math import binomln, bound, factln\n",
    "import scipy as sp\n",
    "import seaborn as sns\n",
    "import logging\n",
    "%matplotlib inline\n",
    "sns.set()\n",
    "\n",
    "# PCT_FORMATTER = StrMethodFormatter('{x:.1%}')"
   ]
  },
  {
   "cell_type": "code",
   "execution_count": 3,
   "metadata": {},
   "outputs": [],
   "source": [
    "SEED = 123456 \n",
    "np.random.seed(SEED)"
   ]
  },
  {
   "cell_type": "markdown",
   "metadata": {},
   "source": [
    "### The Lincoln-Petersen model   \n",
    "The simplest model of abundace, that is, the size of a population, is the Lincoln-Petersen model. While this model is a bit simple for most practical applications, it will introduce some useful modeling concepts and computational techniques.\n",
    "\n",
    "The idea of the Lincoln-Petersen model is to visit the observation site twice to capture individuals from the population of interest. The individuals captured during the first visit are marked (often with tags, radio collars, microchips, etc.) and then released. The number of individuals captured, marked, and released is recorded as n1. On the second visit, the number of captured individuals is recorded as n2. If enough individuals are captured on the second visit, chances are quite high that several of them will have been marked on the first visit. The number of marked individuals recaptured on the second visit is recorded as n1,2.\n",
    "\n",
    "The Lincoln-Petersen model assumes that: 1. each individuals has an equal probability to be captured on both visits (regardless of whether or not they were marked), 2. no marks fall off or become illegible, and 3. the population is closed, that is, no individuals are born, die, enter, or leave the site between visits.\n",
    "\n",
    "The third assumption is quite restrictive, and will be relaxed in the two subsequent models. The first two assumptions can be relaxed in various ways, but we will not do so in this post. First we derive a simple analytic estimator for the total population size given $n_1$, $n_2$, and $n_{1, 2}$, then we fit a Bayesian Lincoln-Petersen model using PyMC3 to set the stage for the (Cormack-)Jolly-Seber models.\n",
    "\n",
    "Let $N$ denote the size of the unknown total population, and let p denote the capture probability. We have that\n",
    "\n",
    "$\\begin{align*}\n",
    "n_1, n_2\\ |\\ N, p\n",
    "    & \\sim \\textrm{Bin}(N, p) \\\\\n",
    "n_{1, 2}\\ |\\ n_1, p\n",
    "    & \\sim \\textrm{Bin}(n_1, p).\n",
    "\\end{align*}$\n",
    "\n",
    "Therefore n2N and n1,2n1 are unbiased estimates of p. The Lincoln-Peterson estimator is derived by equating these estimators\n",
    "\n",
    "$\\frac{n_2}{\\hat{N}} = \\frac{n_{1, 2}}{n_1}$\n",
    "\n",
    "and solving for\n",
    "\n",
    "$\\hat{N} = \\frac{n_1 n_2}{n_{1, 2}}.$.\n",
    "\n",
    "We now simulate a data set where $N$=1000 and the capture probability is $p$=0.1"
   ]
  },
  {
   "cell_type": "code",
   "execution_count": 5,
   "metadata": {},
   "outputs": [],
   "source": [
    "N_LP = 1000\n",
    "P_LP = 0.1\n",
    "\n",
    "x_lp = sp.stats.bernoulli.rvs(P_LP, size=(2, N_LP))"
   ]
  },
  {
   "cell_type": "code",
   "execution_count": null,
   "metadata": {},
   "outputs": [],
   "source": []
  },
  {
   "cell_type": "code",
   "execution_count": null,
   "metadata": {},
   "outputs": [],
   "source": []
  },
  {
   "cell_type": "code",
   "execution_count": null,
   "metadata": {},
   "outputs": [],
   "source": []
  },
  {
   "cell_type": "markdown",
   "metadata": {},
   "source": [
    "https://austinrochford.com/posts/2018-01-31-capture-recapture.html   \n",
    "\n",
    "https://gist.github.com/paucoma/36343a189ffd62aefa7ee87d71b18fcf   \n",
    "\n",
    "https://gist.github.com/AustinRochford/e67cb0c628b3692ecc669190fe86990c"
   ]
  },
  {
   "cell_type": "code",
   "execution_count": null,
   "metadata": {},
   "outputs": [],
   "source": []
  }
 ],
 "metadata": {
  "kernelspec": {
   "display_name": "Python 3",
   "language": "python",
   "name": "python3"
  },
  "language_info": {
   "codemirror_mode": {
    "name": "ipython",
    "version": 3
   },
   "file_extension": ".py",
   "mimetype": "text/x-python",
   "name": "python",
   "nbconvert_exporter": "python",
   "pygments_lexer": "ipython3",
   "version": "3.7.4"
  }
 },
 "nbformat": 4,
 "nbformat_minor": 4
}
